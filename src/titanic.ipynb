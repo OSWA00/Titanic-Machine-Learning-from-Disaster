{
 "cells": [
  {
   "cell_type": "markdown",
   "source": "# Titanic - Machine Learning From Disaster\nThis is the first project out of my ten projects journey to learn data science and machine learning. The objectives of this project are:\n- Get started\n- Learn about classification\n- Learn about data engineering\n- Learn about decision trees",
   "metadata": {
    "cell_id": "00000-2e898a00-032a-4341-9fae-7b3e3cf7b303",
    "deepnote_cell_type": "markdown"
   }
  },
  {
   "cell_type": "markdown",
   "source": "## Exploratory analysis\nBased on [Exploratory Data Analysis of Titanic Survival Problem](https://medium.com/analytics-vidhya/exploratory-data-analysis-of-titanic-survival-problem-e3af0fb1f276)",
   "metadata": {
    "cell_id": "00001-ed43ad50-0b18-4bed-9a6e-a9d6a4d9ef81",
    "deepnote_cell_type": "markdown"
   }
  },
  {
   "cell_type": "code",
   "metadata": {
    "cell_id": "00002-d878d1f0-caba-45b5-b17f-346576403e5a",
    "deepnote_to_be_reexecuted": false,
    "source_hash": "af65b05a",
    "execution_start": 1637275574770,
    "execution_millis": 844,
    "deepnote_cell_type": "code"
   },
   "source": "import pandas as pd\nimport numpy as np\nimport matplotlib.pyplot as plt\nimport seaborn as sns\nimport re # Regular expression",
   "outputs": [],
   "execution_count": null
  },
  {
   "cell_type": "markdown",
   "source": "### Variables study",
   "metadata": {
    "cell_id": "00003-f502423f-b220-45af-b4fb-d651f8e9a9c0",
    "deepnote_cell_type": "markdown"
   }
  },
  {
   "cell_type": "code",
   "metadata": {
    "cell_id": "00004-ca84bc13-a87e-4479-8847-4329c9e52b59",
    "deepnote_output_heights": [
     21.1875
    ],
    "deepnote_to_be_reexecuted": false,
    "source_hash": "c198ba7",
    "execution_start": 1637275575615,
    "execution_millis": 15,
    "deepnote_cell_type": "code"
   },
   "source": "train_df = pd.read_csv(\"../data/train.csv\")\ntest_df = pd.read_csv(\"../data/test.csv\")\ntrain_df.shape",
   "outputs": [
    {
     "output_type": "execute_result",
     "execution_count": 2,
     "data": {
      "text/plain": "(891, 12)"
     },
     "metadata": {}
    }
   ],
   "execution_count": null
  },
  {
   "cell_type": "code",
   "metadata": {
    "cell_id": "00005-6091af8e-6cd2-45d7-ae0e-9f91bc100e8c",
    "deepnote_output_heights": [
     59.59375
    ],
    "deepnote_to_be_reexecuted": false,
    "source_hash": "db07c83b",
    "execution_start": 1637275575632,
    "execution_millis": 3,
    "deepnote_cell_type": "code"
   },
   "source": "cols = train_df.columns\ncols",
   "outputs": [
    {
     "output_type": "execute_result",
     "execution_count": 3,
     "data": {
      "text/plain": "Index(['PassengerId', 'Survived', 'Pclass', 'Name', 'Sex', 'Age', 'SibSp',\n       'Parch', 'Ticket', 'Fare', 'Cabin', 'Embarked'],\n      dtype='object')"
     },
     "metadata": {}
    }
   ],
   "execution_count": null
  },
  {
   "cell_type": "code",
   "metadata": {
    "cell_id": "00006-10e0d175-8539-44be-ba0b-02a60ebc6e4d",
    "deepnote_output_heights": [
     260.390625
    ],
    "deepnote_to_be_reexecuted": false,
    "source_hash": "7fd5b85f",
    "execution_start": 1637275575635,
    "execution_millis": 41,
    "deepnote_cell_type": "code"
   },
   "source": "train_df.describe()",
   "outputs": [
    {
     "output_type": "execute_result",
     "execution_count": 4,
     "data": {
      "application/vnd.deepnote.dataframe.v2+json": {
       "row_count": 8,
       "column_count": 7,
       "columns": [
        {
         "name": "PassengerId",
         "dtype": "float64",
         "stats": {
          "unique_count": 6,
          "nan_count": 0,
          "min": "1.0",
          "max": "891.0",
          "histogram": [
           {
            "bin_start": 1,
            "bin_end": 90,
            "count": 1
           },
           {
            "bin_start": 90,
            "bin_end": 179,
            "count": 0
           },
           {
            "bin_start": 179,
            "bin_end": 268,
            "count": 2
           },
           {
            "bin_start": 268,
            "bin_end": 357,
            "count": 0
           },
           {
            "bin_start": 357,
            "bin_end": 446,
            "count": 0
           },
           {
            "bin_start": 446,
            "bin_end": 535,
            "count": 2
           },
           {
            "bin_start": 535,
            "bin_end": 624,
            "count": 0
           },
           {
            "bin_start": 624,
            "bin_end": 713,
            "count": 1
           },
           {
            "bin_start": 713,
            "bin_end": 802,
            "count": 0
           },
           {
            "bin_start": 802,
            "bin_end": 891,
            "count": 2
           }
          ]
         }
        },
        {
         "name": "Survived",
         "dtype": "float64",
         "stats": {
          "unique_count": 5,
          "nan_count": 0,
          "min": "0.0",
          "max": "891.0",
          "histogram": [
           {
            "bin_start": 0,
            "bin_end": 89.1,
            "count": 7
           },
           {
            "bin_start": 89.1,
            "bin_end": 178.2,
            "count": 0
           },
           {
            "bin_start": 178.2,
            "bin_end": 267.29999999999995,
            "count": 0
           },
           {
            "bin_start": 267.29999999999995,
            "bin_end": 356.4,
            "count": 0
           },
           {
            "bin_start": 356.4,
            "bin_end": 445.5,
            "count": 0
           },
           {
            "bin_start": 445.5,
            "bin_end": 534.5999999999999,
            "count": 0
           },
           {
            "bin_start": 534.5999999999999,
            "bin_end": 623.6999999999999,
            "count": 0
           },
           {
            "bin_start": 623.6999999999999,
            "bin_end": 712.8,
            "count": 0
           },
           {
            "bin_start": 712.8,
            "bin_end": 801.9,
            "count": 0
           },
           {
            "bin_start": 801.9,
            "bin_end": 891,
            "count": 1
           }
          ]
         }
        },
        {
         "name": "Pclass",
         "dtype": "float64",
         "stats": {
          "unique_count": 6,
          "nan_count": 0,
          "min": "0.836071240977049",
          "max": "891.0",
          "histogram": [
           {
            "bin_start": 0.836071240977049,
            "bin_end": 89.85246411687935,
            "count": 7
           },
           {
            "bin_start": 89.85246411687935,
            "bin_end": 178.86885699278164,
            "count": 0
           },
           {
            "bin_start": 178.86885699278164,
            "bin_end": 267.88524986868396,
            "count": 0
           },
           {
            "bin_start": 267.88524986868396,
            "bin_end": 356.90164274458624,
            "count": 0
           },
           {
            "bin_start": 356.90164274458624,
            "bin_end": 445.9180356204885,
            "count": 0
           },
           {
            "bin_start": 445.9180356204885,
            "bin_end": 534.9344284963909,
            "count": 0
           },
           {
            "bin_start": 534.9344284963909,
            "bin_end": 623.9508213722931,
            "count": 0
           },
           {
            "bin_start": 623.9508213722931,
            "bin_end": 712.9672142481954,
            "count": 0
           },
           {
            "bin_start": 712.9672142481954,
            "bin_end": 801.9836071240977,
            "count": 0
           },
           {
            "bin_start": 801.9836071240977,
            "bin_end": 891,
            "count": 1
           }
          ]
         }
        },
        {
         "name": "Age",
         "dtype": "float64",
         "stats": {
          "unique_count": 8,
          "nan_count": 0,
          "min": "0.42",
          "max": "714.0",
          "histogram": [
           {
            "bin_start": 0.42,
            "bin_end": 71.778,
            "count": 6
           },
           {
            "bin_start": 71.778,
            "bin_end": 143.136,
            "count": 1
           },
           {
            "bin_start": 143.136,
            "bin_end": 214.494,
            "count": 0
           },
           {
            "bin_start": 214.494,
            "bin_end": 285.85200000000003,
            "count": 0
           },
           {
            "bin_start": 285.85200000000003,
            "bin_end": 357.21000000000004,
            "count": 0
           },
           {
            "bin_start": 357.21000000000004,
            "bin_end": 428.56800000000004,
            "count": 0
           },
           {
            "bin_start": 428.56800000000004,
            "bin_end": 499.92600000000004,
            "count": 0
           },
           {
            "bin_start": 499.92600000000004,
            "bin_end": 571.284,
            "count": 0
           },
           {
            "bin_start": 571.284,
            "bin_end": 642.6419999999999,
            "count": 0
           },
           {
            "bin_start": 642.6419999999999,
            "bin_end": 714,
            "count": 1
           }
          ]
         }
        },
        {
         "name": "SibSp",
         "dtype": "float64",
         "stats": {
          "unique_count": 6,
          "nan_count": 0,
          "min": "0.0",
          "max": "891.0",
          "histogram": [
           {
            "bin_start": 0,
            "bin_end": 89.1,
            "count": 7
           },
           {
            "bin_start": 89.1,
            "bin_end": 178.2,
            "count": 0
           },
           {
            "bin_start": 178.2,
            "bin_end": 267.29999999999995,
            "count": 0
           },
           {
            "bin_start": 267.29999999999995,
            "bin_end": 356.4,
            "count": 0
           },
           {
            "bin_start": 356.4,
            "bin_end": 445.5,
            "count": 0
           },
           {
            "bin_start": 445.5,
            "bin_end": 534.5999999999999,
            "count": 0
           },
           {
            "bin_start": 534.5999999999999,
            "bin_end": 623.6999999999999,
            "count": 0
           },
           {
            "bin_start": 623.6999999999999,
            "bin_end": 712.8,
            "count": 0
           },
           {
            "bin_start": 712.8,
            "bin_end": 801.9,
            "count": 0
           },
           {
            "bin_start": 801.9,
            "bin_end": 891,
            "count": 1
           }
          ]
         }
        },
        {
         "name": "Parch",
         "dtype": "float64",
         "stats": {
          "unique_count": 5,
          "nan_count": 0,
          "min": "0.0",
          "max": "891.0",
          "histogram": [
           {
            "bin_start": 0,
            "bin_end": 89.1,
            "count": 7
           },
           {
            "bin_start": 89.1,
            "bin_end": 178.2,
            "count": 0
           },
           {
            "bin_start": 178.2,
            "bin_end": 267.29999999999995,
            "count": 0
           },
           {
            "bin_start": 267.29999999999995,
            "bin_end": 356.4,
            "count": 0
           },
           {
            "bin_start": 356.4,
            "bin_end": 445.5,
            "count": 0
           },
           {
            "bin_start": 445.5,
            "bin_end": 534.5999999999999,
            "count": 0
           },
           {
            "bin_start": 534.5999999999999,
            "bin_end": 623.6999999999999,
            "count": 0
           },
           {
            "bin_start": 623.6999999999999,
            "bin_end": 712.8,
            "count": 0
           },
           {
            "bin_start": 712.8,
            "bin_end": 801.9,
            "count": 0
           },
           {
            "bin_start": 801.9,
            "bin_end": 891,
            "count": 1
           }
          ]
         }
        },
        {
         "name": "Fare",
         "dtype": "float64",
         "stats": {
          "unique_count": 8,
          "nan_count": 0,
          "min": "0.0",
          "max": "891.0",
          "histogram": [
           {
            "bin_start": 0,
            "bin_end": 89.1,
            "count": 6
           },
           {
            "bin_start": 89.1,
            "bin_end": 178.2,
            "count": 0
           },
           {
            "bin_start": 178.2,
            "bin_end": 267.29999999999995,
            "count": 0
           },
           {
            "bin_start": 267.29999999999995,
            "bin_end": 356.4,
            "count": 0
           },
           {
            "bin_start": 356.4,
            "bin_end": 445.5,
            "count": 0
           },
           {
            "bin_start": 445.5,
            "bin_end": 534.5999999999999,
            "count": 1
           },
           {
            "bin_start": 534.5999999999999,
            "bin_end": 623.6999999999999,
            "count": 0
           },
           {
            "bin_start": 623.6999999999999,
            "bin_end": 712.8,
            "count": 0
           },
           {
            "bin_start": 712.8,
            "bin_end": 801.9,
            "count": 0
           },
           {
            "bin_start": 801.9,
            "bin_end": 891,
            "count": 1
           }
          ]
         }
        },
        {
         "name": "_deepnote_index_column",
         "dtype": "object"
        }
       ],
       "rows_top": [
        {
         "PassengerId": 891,
         "Survived": 891,
         "Pclass": 891,
         "Age": 714,
         "SibSp": 891,
         "Parch": 891,
         "Fare": 891,
         "_deepnote_index_column": "count"
        },
        {
         "PassengerId": 446,
         "Survived": 0.3838383838383838,
         "Pclass": 2.308641975308642,
         "Age": 29.69911764705882,
         "SibSp": 0.5230078563411896,
         "Parch": 0.38159371492704824,
         "Fare": 32.204207968574636,
         "_deepnote_index_column": "mean"
        },
        {
         "PassengerId": 257.3538420152301,
         "Survived": 0.4865924542648575,
         "Pclass": 0.836071240977049,
         "Age": 14.526497332334042,
         "SibSp": 1.1027434322934317,
         "Parch": 0.8060572211299483,
         "Fare": 49.6934285971809,
         "_deepnote_index_column": "std"
        },
        {
         "PassengerId": 1,
         "Survived": 0,
         "Pclass": 1,
         "Age": 0.42,
         "SibSp": 0,
         "Parch": 0,
         "Fare": 0,
         "_deepnote_index_column": "min"
        },
        {
         "PassengerId": 223.5,
         "Survived": 0,
         "Pclass": 2,
         "Age": 20.125,
         "SibSp": 0,
         "Parch": 0,
         "Fare": 7.9104,
         "_deepnote_index_column": "25%"
        },
        {
         "PassengerId": 446,
         "Survived": 0,
         "Pclass": 3,
         "Age": 28,
         "SibSp": 0,
         "Parch": 0,
         "Fare": 14.4542,
         "_deepnote_index_column": "50%"
        },
        {
         "PassengerId": 668.5,
         "Survived": 1,
         "Pclass": 3,
         "Age": 38,
         "SibSp": 1,
         "Parch": 0,
         "Fare": 31,
         "_deepnote_index_column": "75%"
        },
        {
         "PassengerId": 891,
         "Survived": 1,
         "Pclass": 3,
         "Age": 80,
         "SibSp": 8,
         "Parch": 6,
         "Fare": 512.3292,
         "_deepnote_index_column": "max"
        }
       ],
       "rows_bottom": null
      },
      "text/plain": "       PassengerId    Survived      Pclass         Age       SibSp  \\\ncount   891.000000  891.000000  891.000000  714.000000  891.000000   \nmean    446.000000    0.383838    2.308642   29.699118    0.523008   \nstd     257.353842    0.486592    0.836071   14.526497    1.102743   \nmin       1.000000    0.000000    1.000000    0.420000    0.000000   \n25%     223.500000    0.000000    2.000000   20.125000    0.000000   \n50%     446.000000    0.000000    3.000000   28.000000    0.000000   \n75%     668.500000    1.000000    3.000000   38.000000    1.000000   \nmax     891.000000    1.000000    3.000000   80.000000    8.000000   \n\n            Parch        Fare  \ncount  891.000000  891.000000  \nmean     0.381594   32.204208  \nstd      0.806057   49.693429  \nmin      0.000000    0.000000  \n25%      0.000000    7.910400  \n50%      0.000000   14.454200  \n75%      0.000000   31.000000  \nmax      6.000000  512.329200  ",
      "text/html": "<div>\n<style scoped>\n    .dataframe tbody tr th:only-of-type {\n        vertical-align: middle;\n    }\n\n    .dataframe tbody tr th {\n        vertical-align: top;\n    }\n\n    .dataframe thead th {\n        text-align: right;\n    }\n</style>\n<table border=\"1\" class=\"dataframe\">\n  <thead>\n    <tr style=\"text-align: right;\">\n      <th></th>\n      <th>PassengerId</th>\n      <th>Survived</th>\n      <th>Pclass</th>\n      <th>Age</th>\n      <th>SibSp</th>\n      <th>Parch</th>\n      <th>Fare</th>\n    </tr>\n  </thead>\n  <tbody>\n    <tr>\n      <th>count</th>\n      <td>891.000000</td>\n      <td>891.000000</td>\n      <td>891.000000</td>\n      <td>714.000000</td>\n      <td>891.000000</td>\n      <td>891.000000</td>\n      <td>891.000000</td>\n    </tr>\n    <tr>\n      <th>mean</th>\n      <td>446.000000</td>\n      <td>0.383838</td>\n      <td>2.308642</td>\n      <td>29.699118</td>\n      <td>0.523008</td>\n      <td>0.381594</td>\n      <td>32.204208</td>\n    </tr>\n    <tr>\n      <th>std</th>\n      <td>257.353842</td>\n      <td>0.486592</td>\n      <td>0.836071</td>\n      <td>14.526497</td>\n      <td>1.102743</td>\n      <td>0.806057</td>\n      <td>49.693429</td>\n    </tr>\n    <tr>\n      <th>min</th>\n      <td>1.000000</td>\n      <td>0.000000</td>\n      <td>1.000000</td>\n      <td>0.420000</td>\n      <td>0.000000</td>\n      <td>0.000000</td>\n      <td>0.000000</td>\n    </tr>\n    <tr>\n      <th>25%</th>\n      <td>223.500000</td>\n      <td>0.000000</td>\n      <td>2.000000</td>\n      <td>20.125000</td>\n      <td>0.000000</td>\n      <td>0.000000</td>\n      <td>7.910400</td>\n    </tr>\n    <tr>\n      <th>50%</th>\n      <td>446.000000</td>\n      <td>0.000000</td>\n      <td>3.000000</td>\n      <td>28.000000</td>\n      <td>0.000000</td>\n      <td>0.000000</td>\n      <td>14.454200</td>\n    </tr>\n    <tr>\n      <th>75%</th>\n      <td>668.500000</td>\n      <td>1.000000</td>\n      <td>3.000000</td>\n      <td>38.000000</td>\n      <td>1.000000</td>\n      <td>0.000000</td>\n      <td>31.000000</td>\n    </tr>\n    <tr>\n      <th>max</th>\n      <td>891.000000</td>\n      <td>1.000000</td>\n      <td>3.000000</td>\n      <td>80.000000</td>\n      <td>8.000000</td>\n      <td>6.000000</td>\n      <td>512.329200</td>\n    </tr>\n  </tbody>\n</table>\n</div>"
     },
     "metadata": {}
    }
   ],
   "execution_count": null
  },
  {
   "cell_type": "markdown",
   "source": "**Count** is the number of entries in a particular column, we can see that Age is incomplete. \n\n**Mean** is the average of each column. E.g. The average fare us 32.2 USD\n\n**Std** is standard deviation of all data. A low standard deviation means that most of the numbers are close to the average, while a high standard deviation means that the numbers are more spread out. Again ‘Fare’ has a high standard deviation.\n\n**Min** is the minimum value of each column. For example, the lowest ‘Fare’ shows 0 USD, which means ‘Fare’ is unavailable for some passengers. The model may not perform well with 0 for some passengers. Hence we will need to focus on the ‘Fare’ column before modeling.\n\n**Max** is the maximum value of the column. For example, the highest ‘Fare’ shows 512.33 USD. The mean of the ‘Fare’ column says USD 32.20. We see there is a huge difference in fare. It could be because of the ‘Pclass’ they were traveling.\n\n**25%, 50% & 75%** are the 1st, 2nd, and 3rd quartile of the data. Quartile in statistics is a type of quantile that divides the number of ordered data points into four equal groups. 1st quartile is the middle number between the smallest number and the median. 2nd quartile is the median of the dataset. 3rd quartile is the middle value between the median and the highest value.\n",
   "metadata": {
    "cell_id": "00007-d9b217c3-876d-45d9-8272-55d304b25f93",
    "deepnote_cell_type": "markdown"
   }
  },
  {
   "cell_type": "code",
   "metadata": {
    "cell_id": "00008-05409053-e42d-4d9a-a538-4cb5108f9acb",
    "deepnote_to_be_reexecuted": false,
    "source_hash": "928938fc",
    "execution_start": 1637275575683,
    "execution_millis": 4,
    "deepnote_cell_type": "code"
   },
   "source": "train_df.info()",
   "outputs": [
    {
     "name": "stdout",
     "text": "<class 'pandas.core.frame.DataFrame'>\nRangeIndex: 891 entries, 0 to 890\nData columns (total 12 columns):\n #   Column       Non-Null Count  Dtype  \n---  ------       --------------  -----  \n 0   PassengerId  891 non-null    int64  \n 1   Survived     891 non-null    int64  \n 2   Pclass       891 non-null    int64  \n 3   Name         891 non-null    object \n 4   Sex          891 non-null    object \n 5   Age          714 non-null    float64\n 6   SibSp        891 non-null    int64  \n 7   Parch        891 non-null    int64  \n 8   Ticket       891 non-null    object \n 9   Fare         891 non-null    float64\n 10  Cabin        204 non-null    object \n 11  Embarked     889 non-null    object \ndtypes: float64(2), int64(5), object(5)\nmemory usage: 83.7+ KB\n",
     "output_type": "stream"
    }
   ],
   "execution_count": null
  },
  {
   "cell_type": "code",
   "metadata": {
    "cell_id": "00009-ff48b40c-d8e7-4c8a-a7e9-93bef4fc1018",
    "deepnote_output_heights": [
     251.59375
    ],
    "deepnote_to_be_reexecuted": false,
    "source_hash": "20cfc1cf",
    "execution_start": 1637275575689,
    "execution_millis": 9,
    "deepnote_cell_type": "code"
   },
   "source": "train_df.isnull().sum()",
   "outputs": [
    {
     "output_type": "execute_result",
     "execution_count": 6,
     "data": {
      "text/plain": "PassengerId      0\nSurvived         0\nPclass           0\nName             0\nSex              0\nAge            177\nSibSp            0\nParch            0\nTicket           0\nFare             0\nCabin          687\nEmbarked         2\ndtype: int64"
     },
     "metadata": {}
    }
   ],
   "execution_count": null
  },
  {
   "cell_type": "code",
   "metadata": {
    "cell_id": "00010-85ad3858-9d14-4ad4-bb0f-0878e2e9dabf",
    "deepnote_to_be_reexecuted": false,
    "source_hash": "a9951c9e",
    "execution_start": 1637275575697,
    "execution_millis": 6,
    "deepnote_output_heights": [
     232.390625
    ],
    "deepnote_cell_type": "code"
   },
   "source": "test_df.isnull().sum()",
   "outputs": [
    {
     "output_type": "execute_result",
     "execution_count": 7,
     "data": {
      "text/plain": "PassengerId      0\nPclass           0\nName             0\nSex              0\nAge             86\nSibSp            0\nParch            0\nTicket           0\nFare             1\nCabin          327\nEmbarked         0\ndtype: int64"
     },
     "metadata": {}
    }
   ],
   "execution_count": null
  },
  {
   "cell_type": "code",
   "metadata": {
    "cell_id": "00011-2215cf9f-9370-4fd6-a9e5-baa3d2fbfc33",
    "deepnote_to_be_reexecuted": false,
    "source_hash": "f24c5f37",
    "execution_start": 1637275575705,
    "execution_millis": 287,
    "deepnote_output_heights": [
     317
    ],
    "deepnote_cell_type": "code"
   },
   "source": "ax = plt.axes()\nsns.heatmap(train_df.isnull(), cmap = 'viridis', cbar=False, ax=ax)\nax.set_title('Null values heatmap')\nplt.show()",
   "outputs": [
    {
     "data": {
      "text/plain": "<Figure size 432x288 with 1 Axes>",
      "image/png": "[encoded data removed]"
     },
     "metadata": {
      "needs_background": "light",
      "image/png": {
       "width": 375,
       "height": 315
      }
     },
     "output_type": "display_data"
    }
   ],
   "execution_count": null
  },
  {
   "cell_type": "markdown",
   "source": "### Data cleaning",
   "metadata": {
    "cell_id": "00012-7b433f8c-9a9e-48c3-9d9b-4b623280a65d",
    "deepnote_cell_type": "markdown"
   }
  },
  {
   "cell_type": "markdown",
   "source": "Since cabin has a lot of NaN values, we will create a new feature called has cabin which will have 1 for Cabin a 0 for NaN values.",
   "metadata": {
    "cell_id": "00013-f66b353b-516f-4d03-a725-ebaf459f07d8",
    "deepnote_cell_type": "markdown"
   }
  },
  {
   "cell_type": "code",
   "metadata": {
    "cell_id": "00014-9e77293d-e534-4656-bc12-f87acf951fa4",
    "deepnote_to_be_reexecuted": false,
    "source_hash": "180d81a0",
    "execution_start": 1637275575993,
    "execution_millis": 1,
    "deepnote_cell_type": "code"
   },
   "source": "def clean_cabins(df):\n    return np.where(df['Cabin'].isnull(), 0, 1)\n\n\ntrain_df['has_cabin'] = clean_cabins(train_df)\ntest_df['has_cabin'] = clean_cabins(test_df)",
   "outputs": [],
   "execution_count": null
  },
  {
   "cell_type": "markdown",
   "source": "Now for the embarked missing values, we will assign S (Southhampton)",
   "metadata": {
    "cell_id": "00015-f7195a53-f967-4ad2-b318-05416de96837",
    "deepnote_cell_type": "markdown"
   }
  },
  {
   "cell_type": "code",
   "metadata": {
    "cell_id": "00016-c9e477a3-3ae5-44d6-ae04-b3a7d269bbf0",
    "deepnote_to_be_reexecuted": false,
    "source_hash": "fbf8b47f",
    "execution_start": 1637275575996,
    "execution_millis": 2,
    "deepnote_cell_type": "code"
   },
   "source": "def clean_embarked(df):\n    return df['Embarked'].fillna('S')\n\ntrain_df['Embarked'] = clean_embarked(train_df)\ntest_df['Embarked'] = clean_embarked(test_df)",
   "outputs": [],
   "execution_count": null
  },
  {
   "cell_type": "markdown",
   "source": "Age feature has a lot of missing values. We will fill them with random values centered around the mean and distributed with standard deviation.",
   "metadata": {
    "cell_id": "00017-ada2f7d1-e41e-487a-8f0a-802795b5e2e2",
    "deepnote_cell_type": "markdown"
   }
  },
  {
   "cell_type": "code",
   "metadata": {
    "cell_id": "00018-72f2f1fd-1e3b-4437-843a-dd5d53a88908",
    "deepnote_to_be_reexecuted": false,
    "source_hash": "4d0dff39",
    "execution_start": 1637275576022,
    "execution_millis": 0,
    "deepnote_cell_type": "code"
   },
   "source": "def clean_age(df):\n    mean = df['Age'].mean()\n    std = df['Age'].std()\n    min = mean - std\n    max = mean + std\n    return df['Age'].fillna(np.random.randint(min, max))\n\ntrain_df['Age'] = clean_age(train_df)\ntest_df['Age'] = clean_age(test_df)\n",
   "outputs": [],
   "execution_count": null
  },
  {
   "cell_type": "code",
   "metadata": {
    "cell_id": "00019-7a8161c3-1941-4129-9646-a137304b69a5",
    "deepnote_to_be_reexecuted": false,
    "source_hash": "73977517",
    "execution_start": 1637275576023,
    "execution_millis": 26,
    "deepnote_output_heights": [
     251.59375
    ],
    "deepnote_cell_type": "code"
   },
   "source": "def clean_fare(df):\n    mean = df['Fare'].mean()\n    std = df['Fare'].std()\n    min = mean - std\n    max = mean + std\n    return df['Fare'].fillna(np.random.randint(min, max))\n\ntrain_df['Fare'] = clean_fare(train_df)\ntest_df['Fare'] = clean_fare(test_df)\n\ntest_df.isnull().sum()",
   "outputs": [
    {
     "output_type": "execute_result",
     "execution_count": 12,
     "data": {
      "text/plain": "PassengerId      0\nPclass           0\nName             0\nSex              0\nAge              0\nSibSp            0\nParch            0\nTicket           0\nFare             0\nCabin          327\nEmbarked         0\nhas_cabin        0\ndtype: int64"
     },
     "metadata": {}
    }
   ],
   "execution_count": null
  },
  {
   "cell_type": "markdown",
   "source": "### Feature engineering\nHere we will create new features that could help our model performance.",
   "metadata": {
    "cell_id": "00020-f38e5545-02fb-4289-9051-308f90ea96a1",
    "deepnote_cell_type": "markdown"
   }
  },
  {
   "cell_type": "markdown",
   "source": "We will create a new feature called family_size by combining ‘SibSp’(Sibling & Spouse) and ‘Parch’(Parent & Children).",
   "metadata": {
    "cell_id": "00021-5c7082d1-1b5e-49bf-b8ee-8c0983114486",
    "deepnote_cell_type": "markdown"
   }
  },
  {
   "cell_type": "code",
   "metadata": {
    "cell_id": "00022-001d7b90-d531-4826-ae6e-59eefcd64976",
    "deepnote_to_be_reexecuted": false,
    "source_hash": "91e06921",
    "execution_start": 1637275576024,
    "execution_millis": 0,
    "deepnote_cell_type": "code"
   },
   "source": "def create_fam_size(df):\n    return df['SibSp'] + df['Parch'] + 1\n    \ntrain_df['family_size'] = create_fam_size(train_df)\ntest_df['family_size'] = create_fam_size(test_df)",
   "outputs": [],
   "execution_count": null
  },
  {
   "cell_type": "markdown",
   "source": "Next, we will create another feature called is_alone which is 1 for people travelling alone and 0 for the rest.",
   "metadata": {
    "cell_id": "00023-e0ad7451-e686-4af0-a69c-1745e177c28d",
    "deepnote_cell_type": "markdown"
   }
  },
  {
   "cell_type": "code",
   "metadata": {
    "cell_id": "00024-35b6107f-aa3a-4225-80f2-7620f77ef783",
    "deepnote_to_be_reexecuted": false,
    "source_hash": "ceef558b",
    "execution_start": 1637275576024,
    "execution_millis": 1,
    "deepnote_cell_type": "code"
   },
   "source": "#def create_is_alone(df):\n#    return np.where(df['family_size'] == 0, 1, 0)\n#\n#train_df['is_alone'] = create_is_alone(train_df)\n#test_df['is_alone'] = create_is_alone(test_df)",
   "outputs": [],
   "execution_count": null
  },
  {
   "cell_type": "markdown",
   "source": "The fare column contains 0's for some passangers and pretty high values for others. We will split the fare into four categories and create a new feature called categorical_fare",
   "metadata": {
    "cell_id": "00025-99bc6415-24d9-4fac-bf92-4b54ac2beb95",
    "deepnote_cell_type": "markdown"
   }
  },
  {
   "cell_type": "code",
   "metadata": {
    "cell_id": "00026-34b18b27-725a-4b12-9a94-e1f97412c18f",
    "deepnote_to_be_reexecuted": false,
    "source_hash": "b4883cb3",
    "execution_start": 1637275576026,
    "execution_millis": 8,
    "deepnote_cell_type": "code"
   },
   "source": "def create_categorical_fare(df):\n    return pd.qcut(x=df['Fare'], q=4, labels=[0, 1, 2, 3]).astype(int)\n\ntrain_df['categorical_fare'] = create_categorical_fare(train_df)\ntest_df['categorical_fare'] = create_categorical_fare(test_df)",
   "outputs": [],
   "execution_count": null
  },
  {
   "cell_type": "markdown",
   "source": "Next, let's categorize the age into five categories and create a new feature \"categorical_age\"",
   "metadata": {
    "cell_id": "00027-b111f03f-3179-4491-a48d-2c5cd2b115b3",
    "deepnote_cell_type": "markdown"
   }
  },
  {
   "cell_type": "code",
   "metadata": {
    "cell_id": "00028-26ce55f9-bcdf-4843-9566-a1e03854ab0f",
    "deepnote_to_be_reexecuted": false,
    "source_hash": "e50410ee",
    "execution_start": 1637275576035,
    "execution_millis": 0,
    "deepnote_cell_type": "code"
   },
   "source": "#def create_categorical_age(df):\n#    return pd.qcut(x=df['Age'], q=5, labels=[0, 1, 2, 3, 4]).astype(int)\n#\n#train_df['categorical_age'] = create_categorical_age(train_df)\n#test_df['categorical_age'] = create_categorical_age(test_df)",
   "outputs": [],
   "execution_count": null
  },
  {
   "cell_type": "markdown",
   "source": "In the name column we have many titles, we will extract them and categorize them into four categories [Mr, Miss, Mrs, Rare] and create a new feature called \"title\"",
   "metadata": {
    "cell_id": "00029-b43474c9-1045-462c-8a10-e945c839ba4d",
    "deepnote_cell_type": "markdown"
   }
  },
  {
   "cell_type": "code",
   "metadata": {
    "cell_id": "00030-06dfc0de-609f-4276-bb12-10032d552618",
    "deepnote_to_be_reexecuted": false,
    "source_hash": "84ca90f1",
    "execution_start": 1637275576062,
    "execution_millis": 0,
    "deepnote_cell_type": "code"
   },
   "source": "def create_categorical_title(df):\n    def find_title(name : str) -> str:\n        search = re.search(' ([A-Za-z]+)\\.', name) # Search for a word with a point at the end\n        if search:\n            title = search.group(1)\n            if title in ['Mlle', 'Ms']:\n                return 'Miss'\n            elif title in ['Mme', 'Mrs']:\n                return 'Mrs'\n            elif title == 'Mr':\n                return 'Mr'\n            else:\n                return 'Rare'\n        return \"\"\n    return_title = df['Name'].apply(find_title)\n    dict_title = {'Miss': 1, 'Mrs':2, 'Mr':3, 'Rare':4}\n    return return_title.replace(dict_title)\n\ntrain_df['Title'] = create_categorical_title(train_df)\ntest_df['Title'] = create_categorical_title(test_df)",
   "outputs": [],
   "execution_count": null
  },
  {
   "cell_type": "markdown",
   "source": "Lastly, we will change the \"Sex\" and \"Embarked\" feature to categorical ones. Machine Learning algorithms operate in the domain of numerical values. They do not understand “Male/Female” or “Yes/No”. But they understand the difference between a 0 and a 1.",
   "metadata": {
    "cell_id": "00031-737fc828-cbbd-4580-bcb3-d23b1f45230f",
    "deepnote_cell_type": "markdown"
   }
  },
  {
   "cell_type": "code",
   "metadata": {
    "cell_id": "00032-a7bfc97a-4b81-4085-ae65-c5ec4b799ad6",
    "deepnote_to_be_reexecuted": false,
    "source_hash": "f088b391",
    "execution_start": 1637275576063,
    "execution_millis": 0,
    "deepnote_cell_type": "code"
   },
   "source": "def create_categorical_sex(df):\n    return np.where(df['Sex'] == 'male', 1, 0)\n\ndef create_categorical_embarked(df):\n    return df['Embarked'].replace({'S': 0, 'C' : 1, 'Q' : 2})\n\ntrain_df['categorical_sex'] = create_categorical_sex(train_df)\ntrain_df['Embarked'] = create_categorical_embarked(train_df)\n\ntest_df['categorical_sex'] = create_categorical_sex(test_df)\ntest_df['Embarked'] = create_categorical_embarked(test_df)",
   "outputs": [],
   "execution_count": null
  },
  {
   "cell_type": "markdown",
   "source": "After data cleaning and feature engineering we check for NaN values",
   "metadata": {
    "cell_id": "00033-06f8a704-b68c-4a79-b76a-2de0cac96847",
    "deepnote_cell_type": "markdown"
   }
  },
  {
   "cell_type": "code",
   "metadata": {
    "cell_id": "00034-1bdd5160-63c9-45e1-85ca-c05cc60c8aab",
    "deepnote_to_be_reexecuted": false,
    "source_hash": "20cfc1cf",
    "execution_start": 1637275576063,
    "execution_millis": 3,
    "deepnote_output_heights": [
     347.59375
    ],
    "deepnote_cell_type": "code"
   },
   "source": "train_df.isnull().sum()",
   "outputs": [
    {
     "output_type": "execute_result",
     "execution_count": 19,
     "data": {
      "text/plain": "PassengerId           0\nSurvived              0\nPclass                0\nName                  0\nSex                   0\nAge                   0\nSibSp                 0\nParch                 0\nTicket                0\nFare                  0\nCabin               687\nEmbarked              0\nhas_cabin             0\nfamily_size           0\ncategorical_fare      0\nTitle                 0\ncategorical_sex       0\ndtype: int64"
     },
     "metadata": {}
    }
   ],
   "execution_count": null
  },
  {
   "cell_type": "markdown",
   "source": "Let's drop the useless columns.",
   "metadata": {
    "cell_id": "00035-934672d8-ced3-48a6-b767-c0f2a80ea08a",
    "deepnote_cell_type": "markdown"
   }
  },
  {
   "cell_type": "code",
   "metadata": {
    "cell_id": "00036-afc97969-8085-40f3-b33e-1d1f862f61af",
    "deepnote_to_be_reexecuted": false,
    "source_hash": "a08c3d33",
    "execution_start": 1637275576068,
    "execution_millis": 35,
    "deepnote_output_heights": [
     174.59375
    ],
    "deepnote_cell_type": "code"
   },
   "source": "def remove_useless_features(df):\n    drop_list = ['PassengerId', 'Cabin', 'Ticket', 'SibSp', 'Name', 'Sex']\n    return df.drop(drop_list, axis=1)\n\ntrain_df = remove_useless_features(train_df)\ntest_df = remove_useless_features(test_df)\ntrain_df.head()",
   "outputs": [
    {
     "output_type": "execute_result",
     "execution_count": 20,
     "data": {
      "application/vnd.deepnote.dataframe.v2+json": {
       "row_count": 5,
       "column_count": 11,
       "columns": [
        {
         "name": "Survived",
         "dtype": "int64",
         "stats": {
          "unique_count": 2,
          "nan_count": 0,
          "min": "0",
          "max": "1",
          "histogram": [
           {
            "bin_start": 0,
            "bin_end": 0.1,
            "count": 2
           },
           {
            "bin_start": 0.1,
            "bin_end": 0.2,
            "count": 0
           },
           {
            "bin_start": 0.2,
            "bin_end": 0.30000000000000004,
            "count": 0
           },
           {
            "bin_start": 0.30000000000000004,
            "bin_end": 0.4,
            "count": 0
           },
           {
            "bin_start": 0.4,
            "bin_end": 0.5,
            "count": 0
           },
           {
            "bin_start": 0.5,
            "bin_end": 0.6000000000000001,
            "count": 0
           },
           {
            "bin_start": 0.6000000000000001,
            "bin_end": 0.7000000000000001,
            "count": 0
           },
           {
            "bin_start": 0.7000000000000001,
            "bin_end": 0.8,
            "count": 0
           },
           {
            "bin_start": 0.8,
            "bin_end": 0.9,
            "count": 0
           },
           {
            "bin_start": 0.9,
            "bin_end": 1,
            "count": 3
           }
          ]
         }
        },
        {
         "name": "Pclass",
         "dtype": "int64",
         "stats": {
          "unique_count": 2,
          "nan_count": 0,
          "min": "1",
          "max": "3",
          "histogram": [
           {
            "bin_start": 1,
            "bin_end": 1.2,
            "count": 2
           },
           {
            "bin_start": 1.2,
            "bin_end": 1.4,
            "count": 0
           },
           {
            "bin_start": 1.4,
            "bin_end": 1.6,
            "count": 0
           },
           {
            "bin_start": 1.6,
            "bin_end": 1.8,
            "count": 0
           },
           {
            "bin_start": 1.8,
            "bin_end": 2,
            "count": 0
           },
           {
            "bin_start": 2,
            "bin_end": 2.2,
            "count": 0
           },
           {
            "bin_start": 2.2,
            "bin_end": 2.4000000000000004,
            "count": 0
           },
           {
            "bin_start": 2.4000000000000004,
            "bin_end": 2.6,
            "count": 0
           },
           {
            "bin_start": 2.6,
            "bin_end": 2.8,
            "count": 0
           },
           {
            "bin_start": 2.8,
            "bin_end": 3,
            "count": 3
           }
          ]
         }
        },
        {
         "name": "Age",
         "dtype": "float64",
         "stats": {
          "unique_count": 4,
          "nan_count": 0,
          "min": "22.0",
          "max": "38.0",
          "histogram": [
           {
            "bin_start": 22,
            "bin_end": 23.6,
            "count": 1
           },
           {
            "bin_start": 23.6,
            "bin_end": 25.2,
            "count": 0
           },
           {
            "bin_start": 25.2,
            "bin_end": 26.8,
            "count": 1
           },
           {
            "bin_start": 26.8,
            "bin_end": 28.4,
            "count": 0
           },
           {
            "bin_start": 28.4,
            "bin_end": 30,
            "count": 0
           },
           {
            "bin_start": 30,
            "bin_end": 31.6,
            "count": 0
           },
           {
            "bin_start": 31.6,
            "bin_end": 33.2,
            "count": 0
           },
           {
            "bin_start": 33.2,
            "bin_end": 34.8,
            "count": 0
           },
           {
            "bin_start": 34.8,
            "bin_end": 36.4,
            "count": 2
           },
           {
            "bin_start": 36.4,
            "bin_end": 38,
            "count": 1
           }
          ]
         }
        },
        {
         "name": "Parch",
         "dtype": "int64",
         "stats": {
          "unique_count": 1,
          "nan_count": 0,
          "min": "0",
          "max": "0",
          "histogram": [
           {
            "bin_start": -0.5,
            "bin_end": -0.4,
            "count": 0
           },
           {
            "bin_start": -0.4,
            "bin_end": -0.3,
            "count": 0
           },
           {
            "bin_start": -0.3,
            "bin_end": -0.19999999999999996,
            "count": 0
           },
           {
            "bin_start": -0.19999999999999996,
            "bin_end": -0.09999999999999998,
            "count": 0
           },
           {
            "bin_start": -0.09999999999999998,
            "bin_end": 0,
            "count": 0
           },
           {
            "bin_start": 0,
            "bin_end": 0.10000000000000009,
            "count": 5
           },
           {
            "bin_start": 0.10000000000000009,
            "bin_end": 0.20000000000000007,
            "count": 0
           },
           {
            "bin_start": 0.20000000000000007,
            "bin_end": 0.30000000000000004,
            "count": 0
           },
           {
            "bin_start": 0.30000000000000004,
            "bin_end": 0.4,
            "count": 0
           },
           {
            "bin_start": 0.4,
            "bin_end": 0.5,
            "count": 0
           }
          ]
         }
        },
        {
         "name": "Fare",
         "dtype": "float64",
         "stats": {
          "unique_count": 5,
          "nan_count": 0,
          "min": "7.25",
          "max": "71.2833",
          "histogram": [
           {
            "bin_start": 7.25,
            "bin_end": 13.65333,
            "count": 3
           },
           {
            "bin_start": 13.65333,
            "bin_end": 20.05666,
            "count": 0
           },
           {
            "bin_start": 20.05666,
            "bin_end": 26.459989999999998,
            "count": 0
           },
           {
            "bin_start": 26.459989999999998,
            "bin_end": 32.86332,
            "count": 0
           },
           {
            "bin_start": 32.86332,
            "bin_end": 39.26665,
            "count": 0
           },
           {
            "bin_start": 39.26665,
            "bin_end": 45.669979999999995,
            "count": 0
           },
           {
            "bin_start": 45.669979999999995,
            "bin_end": 52.07331,
            "count": 0
           },
           {
            "bin_start": 52.07331,
            "bin_end": 58.476639999999996,
            "count": 1
           },
           {
            "bin_start": 58.476639999999996,
            "bin_end": 64.87996999999999,
            "count": 0
           },
           {
            "bin_start": 64.87996999999999,
            "bin_end": 71.2833,
            "count": 1
           }
          ]
         }
        },
        {
         "name": "Embarked",
         "dtype": "int64",
         "stats": {
          "unique_count": 2,
          "nan_count": 0,
          "min": "0",
          "max": "1",
          "histogram": [
           {
            "bin_start": 0,
            "bin_end": 0.1,
            "count": 4
           },
           {
            "bin_start": 0.1,
            "bin_end": 0.2,
            "count": 0
           },
           {
            "bin_start": 0.2,
            "bin_end": 0.30000000000000004,
            "count": 0
           },
           {
            "bin_start": 0.30000000000000004,
            "bin_end": 0.4,
            "count": 0
           },
           {
            "bin_start": 0.4,
            "bin_end": 0.5,
            "count": 0
           },
           {
            "bin_start": 0.5,
            "bin_end": 0.6000000000000001,
            "count": 0
           },
           {
            "bin_start": 0.6000000000000001,
            "bin_end": 0.7000000000000001,
            "count": 0
           },
           {
            "bin_start": 0.7000000000000001,
            "bin_end": 0.8,
            "count": 0
           },
           {
            "bin_start": 0.8,
            "bin_end": 0.9,
            "count": 0
           },
           {
            "bin_start": 0.9,
            "bin_end": 1,
            "count": 1
           }
          ]
         }
        },
        {
         "name": "has_cabin",
         "dtype": "int64",
         "stats": {
          "unique_count": 2,
          "nan_count": 0,
          "min": "0",
          "max": "1",
          "histogram": [
           {
            "bin_start": 0,
            "bin_end": 0.1,
            "count": 3
           },
           {
            "bin_start": 0.1,
            "bin_end": 0.2,
            "count": 0
           },
           {
            "bin_start": 0.2,
            "bin_end": 0.30000000000000004,
            "count": 0
           },
           {
            "bin_start": 0.30000000000000004,
            "bin_end": 0.4,
            "count": 0
           },
           {
            "bin_start": 0.4,
            "bin_end": 0.5,
            "count": 0
           },
           {
            "bin_start": 0.5,
            "bin_end": 0.6000000000000001,
            "count": 0
           },
           {
            "bin_start": 0.6000000000000001,
            "bin_end": 0.7000000000000001,
            "count": 0
           },
           {
            "bin_start": 0.7000000000000001,
            "bin_end": 0.8,
            "count": 0
           },
           {
            "bin_start": 0.8,
            "bin_end": 0.9,
            "count": 0
           },
           {
            "bin_start": 0.9,
            "bin_end": 1,
            "count": 2
           }
          ]
         }
        },
        {
         "name": "family_size",
         "dtype": "int64",
         "stats": {
          "unique_count": 2,
          "nan_count": 0,
          "min": "1",
          "max": "2",
          "histogram": [
           {
            "bin_start": 1,
            "bin_end": 1.1,
            "count": 2
           },
           {
            "bin_start": 1.1,
            "bin_end": 1.2,
            "count": 0
           },
           {
            "bin_start": 1.2,
            "bin_end": 1.3,
            "count": 0
           },
           {
            "bin_start": 1.3,
            "bin_end": 1.4,
            "count": 0
           },
           {
            "bin_start": 1.4,
            "bin_end": 1.5,
            "count": 0
           },
           {
            "bin_start": 1.5,
            "bin_end": 1.6,
            "count": 0
           },
           {
            "bin_start": 1.6,
            "bin_end": 1.7000000000000002,
            "count": 0
           },
           {
            "bin_start": 1.7000000000000002,
            "bin_end": 1.8,
            "count": 0
           },
           {
            "bin_start": 1.8,
            "bin_end": 1.9,
            "count": 0
           },
           {
            "bin_start": 1.9,
            "bin_end": 2,
            "count": 3
           }
          ]
         }
        },
        {
         "name": "categorical_fare",
         "dtype": "int64",
         "stats": {
          "unique_count": 3,
          "nan_count": 0,
          "min": "0",
          "max": "3",
          "histogram": [
           {
            "bin_start": 0,
            "bin_end": 0.3,
            "count": 1
           },
           {
            "bin_start": 0.3,
            "bin_end": 0.6,
            "count": 0
           },
           {
            "bin_start": 0.6,
            "bin_end": 0.8999999999999999,
            "count": 0
           },
           {
            "bin_start": 0.8999999999999999,
            "bin_end": 1.2,
            "count": 2
           },
           {
            "bin_start": 1.2,
            "bin_end": 1.5,
            "count": 0
           },
           {
            "bin_start": 1.5,
            "bin_end": 1.7999999999999998,
            "count": 0
           },
           {
            "bin_start": 1.7999999999999998,
            "bin_end": 2.1,
            "count": 0
           },
           {
            "bin_start": 2.1,
            "bin_end": 2.4,
            "count": 0
           },
           {
            "bin_start": 2.4,
            "bin_end": 2.6999999999999997,
            "count": 0
           },
           {
            "bin_start": 2.6999999999999997,
            "bin_end": 3,
            "count": 2
           }
          ]
         }
        },
        {
         "name": "Title",
         "dtype": "int64",
         "stats": {
          "unique_count": 3,
          "nan_count": 0,
          "min": "2",
          "max": "4",
          "histogram": [
           {
            "bin_start": 2,
            "bin_end": 2.2,
            "count": 2
           },
           {
            "bin_start": 2.2,
            "bin_end": 2.4,
            "count": 0
           },
           {
            "bin_start": 2.4,
            "bin_end": 2.6,
            "count": 0
           },
           {
            "bin_start": 2.6,
            "bin_end": 2.8,
            "count": 0
           },
           {
            "bin_start": 2.8,
            "bin_end": 3,
            "count": 0
           },
           {
            "bin_start": 3,
            "bin_end": 3.2,
            "count": 2
           },
           {
            "bin_start": 3.2,
            "bin_end": 3.4000000000000004,
            "count": 0
           },
           {
            "bin_start": 3.4000000000000004,
            "bin_end": 3.6,
            "count": 0
           },
           {
            "bin_start": 3.6,
            "bin_end": 3.8,
            "count": 0
           },
           {
            "bin_start": 3.8,
            "bin_end": 4,
            "count": 1
           }
          ]
         }
        },
        {
         "name": "categorical_sex",
         "dtype": "int64",
         "stats": {
          "unique_count": 2,
          "nan_count": 0,
          "min": "0",
          "max": "1",
          "histogram": [
           {
            "bin_start": 0,
            "bin_end": 0.1,
            "count": 3
           },
           {
            "bin_start": 0.1,
            "bin_end": 0.2,
            "count": 0
           },
           {
            "bin_start": 0.2,
            "bin_end": 0.30000000000000004,
            "count": 0
           },
           {
            "bin_start": 0.30000000000000004,
            "bin_end": 0.4,
            "count": 0
           },
           {
            "bin_start": 0.4,
            "bin_end": 0.5,
            "count": 0
           },
           {
            "bin_start": 0.5,
            "bin_end": 0.6000000000000001,
            "count": 0
           },
           {
            "bin_start": 0.6000000000000001,
            "bin_end": 0.7000000000000001,
            "count": 0
           },
           {
            "bin_start": 0.7000000000000001,
            "bin_end": 0.8,
            "count": 0
           },
           {
            "bin_start": 0.8,
            "bin_end": 0.9,
            "count": 0
           },
           {
            "bin_start": 0.9,
            "bin_end": 1,
            "count": 2
           }
          ]
         }
        },
        {
         "name": "_deepnote_index_column",
         "dtype": "int64"
        }
       ],
       "rows_top": [
        {
         "Survived": 0,
         "Pclass": 3,
         "Age": 22,
         "Parch": 0,
         "Fare": 7.25,
         "Embarked": 0,
         "has_cabin": 0,
         "family_size": 2,
         "categorical_fare": 0,
         "Title": 3,
         "categorical_sex": 1,
         "_deepnote_index_column": 0
        },
        {
         "Survived": 1,
         "Pclass": 1,
         "Age": 38,
         "Parch": 0,
         "Fare": 71.2833,
         "Embarked": 1,
         "has_cabin": 1,
         "family_size": 2,
         "categorical_fare": 3,
         "Title": 2,
         "categorical_sex": 0,
         "_deepnote_index_column": 1
        },
        {
         "Survived": 1,
         "Pclass": 3,
         "Age": 26,
         "Parch": 0,
         "Fare": 7.925,
         "Embarked": 0,
         "has_cabin": 0,
         "family_size": 1,
         "categorical_fare": 1,
         "Title": 4,
         "categorical_sex": 0,
         "_deepnote_index_column": 2
        },
        {
         "Survived": 1,
         "Pclass": 1,
         "Age": 35,
         "Parch": 0,
         "Fare": 53.1,
         "Embarked": 0,
         "has_cabin": 1,
         "family_size": 2,
         "categorical_fare": 3,
         "Title": 2,
         "categorical_sex": 0,
         "_deepnote_index_column": 3
        },
        {
         "Survived": 0,
         "Pclass": 3,
         "Age": 35,
         "Parch": 0,
         "Fare": 8.05,
         "Embarked": 0,
         "has_cabin": 0,
         "family_size": 1,
         "categorical_fare": 1,
         "Title": 3,
         "categorical_sex": 1,
         "_deepnote_index_column": 4
        }
       ],
       "rows_bottom": null
      },
      "text/plain": "   Survived  Pclass   Age  Parch     Fare  Embarked  has_cabin  family_size  \\\n0         0       3  22.0      0   7.2500         0          0            2   \n1         1       1  38.0      0  71.2833         1          1            2   \n2         1       3  26.0      0   7.9250         0          0            1   \n3         1       1  35.0      0  53.1000         0          1            2   \n4         0       3  35.0      0   8.0500         0          0            1   \n\n   categorical_fare  Title  categorical_sex  \n0                 0      3                1  \n1                 3      2                0  \n2                 1      4                0  \n3                 3      2                0  \n4                 1      3                1  ",
      "text/html": "<div>\n<style scoped>\n    .dataframe tbody tr th:only-of-type {\n        vertical-align: middle;\n    }\n\n    .dataframe tbody tr th {\n        vertical-align: top;\n    }\n\n    .dataframe thead th {\n        text-align: right;\n    }\n</style>\n<table border=\"1\" class=\"dataframe\">\n  <thead>\n    <tr style=\"text-align: right;\">\n      <th></th>\n      <th>Survived</th>\n      <th>Pclass</th>\n      <th>Age</th>\n      <th>Parch</th>\n      <th>Fare</th>\n      <th>Embarked</th>\n      <th>has_cabin</th>\n      <th>family_size</th>\n      <th>categorical_fare</th>\n      <th>Title</th>\n      <th>categorical_sex</th>\n    </tr>\n  </thead>\n  <tbody>\n    <tr>\n      <th>0</th>\n      <td>0</td>\n      <td>3</td>\n      <td>22.0</td>\n      <td>0</td>\n      <td>7.2500</td>\n      <td>0</td>\n      <td>0</td>\n      <td>2</td>\n      <td>0</td>\n      <td>3</td>\n      <td>1</td>\n    </tr>\n    <tr>\n      <th>1</th>\n      <td>1</td>\n      <td>1</td>\n      <td>38.0</td>\n      <td>0</td>\n      <td>71.2833</td>\n      <td>1</td>\n      <td>1</td>\n      <td>2</td>\n      <td>3</td>\n      <td>2</td>\n      <td>0</td>\n    </tr>\n    <tr>\n      <th>2</th>\n      <td>1</td>\n      <td>3</td>\n      <td>26.0</td>\n      <td>0</td>\n      <td>7.9250</td>\n      <td>0</td>\n      <td>0</td>\n      <td>1</td>\n      <td>1</td>\n      <td>4</td>\n      <td>0</td>\n    </tr>\n    <tr>\n      <th>3</th>\n      <td>1</td>\n      <td>1</td>\n      <td>35.0</td>\n      <td>0</td>\n      <td>53.1000</td>\n      <td>0</td>\n      <td>1</td>\n      <td>2</td>\n      <td>3</td>\n      <td>2</td>\n      <td>0</td>\n    </tr>\n    <tr>\n      <th>4</th>\n      <td>0</td>\n      <td>3</td>\n      <td>35.0</td>\n      <td>0</td>\n      <td>8.0500</td>\n      <td>0</td>\n      <td>0</td>\n      <td>1</td>\n      <td>1</td>\n      <td>3</td>\n      <td>1</td>\n    </tr>\n  </tbody>\n</table>\n</div>"
     },
     "metadata": {}
    }
   ],
   "execution_count": null
  },
  {
   "cell_type": "markdown",
   "source": "### Correlation study",
   "metadata": {
    "cell_id": "00037-8d9cc2be-ed4c-4e95-b9af-6f22431dcedf",
    "deepnote_cell_type": "markdown"
   }
  },
  {
   "cell_type": "code",
   "metadata": {
    "cell_id": "00038-2df36d99-0b9f-4330-bdf9-0824ea8c696b",
    "deepnote_to_be_reexecuted": false,
    "source_hash": "e8024b9c",
    "execution_start": 1637275576098,
    "execution_millis": 1050,
    "deepnote_output_heights": [
     21.1875,
     611
    ],
    "deepnote_cell_type": "code"
   },
   "source": "colormap = plt.cm.Blues\nplt.figure(figsize=(14,10))\nsns.heatmap(train_df.corr(), cmap=colormap, annot=True, linewidths=0.2)",
   "outputs": [
    {
     "output_type": "execute_result",
     "execution_count": 21,
     "data": {
      "text/plain": "<AxesSubplot:>"
     },
     "metadata": {}
    },
    {
     "data": {
      "text/plain": "<Figure size 1008x720 with 2 Axes>",
      "image/png": "[encoded data removed]"
     },
     "metadata": {
      "needs_background": "light",
      "image/png": {
       "width": 824,
       "height": 649
      }
     },
     "output_type": "display_data"
    }
   ],
   "execution_count": null
  },
  {
   "cell_type": "markdown",
   "source": "Positive and Negative values denote Positive and Negative correlation. The first row of the data shows the correlation of each variable with the Target variable ‘Survived’.\nFor building a good predictive model, we are interested in variables that influence the target variable “Survived”. Positively or negatively. We need to consider the values that are both too high and too low.`\n\nThe first row contains the values that represent the correlation of each variable with the target variable. ‘HasCabin’ and ‘CategoricalFare’ are highly (positively) correlated with the target variable and ‘Sex Numerical’ is inversely correlated with the target variable.",
   "metadata": {
    "cell_id": "00039-40585d00-54c0-48cf-a423-fc95c3c14fa9",
    "deepnote_cell_type": "markdown"
   }
  },
  {
   "cell_type": "markdown",
   "source": "### Target Variable Analysis (Univariate Analysis)\nThe Study of the target variable is a significant step in Data Analysis that reveals the nature and distribution of the variable. Let’s analyze our target variable “Survived”.",
   "metadata": {
    "cell_id": "00040-c3f83804-5ded-46de-87f4-42fce4abff8e",
    "deepnote_cell_type": "markdown"
   }
  },
  {
   "cell_type": "code",
   "metadata": {
    "cell_id": "00041-3643d6ff-ca18-4e0f-ad4d-06f0845c08ef",
    "deepnote_to_be_reexecuted": false,
    "source_hash": "b92d88f8",
    "execution_start": 1637275577146,
    "execution_millis": 4,
    "deepnote_output_heights": [
     59.59375
    ],
    "deepnote_cell_type": "code"
   },
   "source": "train_df['Survived'].value_counts()",
   "outputs": [
    {
     "output_type": "execute_result",
     "execution_count": 22,
     "data": {
      "text/plain": "0    549\n1    342\nName: Survived, dtype: int64"
     },
     "metadata": {}
    }
   ],
   "execution_count": null
  },
  {
   "cell_type": "code",
   "metadata": {
    "cell_id": "00042-dc3b9e9f-ed0e-4350-9bdc-e4cde00d7c5b",
    "deepnote_to_be_reexecuted": false,
    "source_hash": "13ec8f4e",
    "execution_start": 1637275577151,
    "execution_millis": 101,
    "deepnote_output_heights": [
     280
    ],
    "deepnote_cell_type": "code"
   },
   "source": "sns.countplot(x='Survived', data=train_df)\nplt.title(\"Titanic Survived\")\nplt.show()",
   "outputs": [
    {
     "data": {
      "text/plain": "<Figure size 432x288 with 1 Axes>",
      "image/png": "[encoded data removed]"
     },
     "metadata": {
      "needs_background": "light",
      "image/png": {
       "width": 389,
       "height": 278
      }
     },
     "output_type": "display_data"
    }
   ],
   "execution_count": null
  },
  {
   "cell_type": "code",
   "metadata": {
    "cell_id": "00043-6ab6e95d-5021-439a-948f-48e4be1b1e0d",
    "deepnote_to_be_reexecuted": false,
    "source_hash": "3c1d7b7b",
    "execution_start": 1637275577253,
    "execution_millis": 94,
    "deepnote_output_heights": [
     21.1875,
     233
    ],
    "deepnote_cell_type": "code"
   },
   "source": "explode = [0, 0.05]\ntrain_df['Survived'].value_counts().plot.pie(autopct = '%1.2f%%', explode=explode)",
   "outputs": [
    {
     "output_type": "execute_result",
     "execution_count": 24,
     "data": {
      "text/plain": "<AxesSubplot:ylabel='Survived'>"
     },
     "metadata": {}
    },
    {
     "data": {
      "text/plain": "<Figure size 432x288 with 1 Axes>",
      "image/png": "[encoded data removed]"
     },
     "metadata": {
      "image/png": {
       "width": 245,
       "height": 231
      }
     },
     "output_type": "display_data"
    }
   ],
   "execution_count": null
  },
  {
   "cell_type": "markdown",
   "source": "From the above chart, 38% of the passengers are only survived based on this training data. Clearly, there is an imbalance between the classes.\n### Bivariate analysis\nLet's analyze the ‘Pclass’ column since it is highly correlated with the target variable.",
   "metadata": {
    "cell_id": "00044-7c458e9a-3ada-41fb-9fef-b4221a50b9c3",
    "deepnote_cell_type": "markdown"
   }
  },
  {
   "cell_type": "code",
   "metadata": {
    "cell_id": "00045-9b605fec-60a0-4058-9efe-712feac6d018",
    "deepnote_to_be_reexecuted": false,
    "source_hash": "9b4204e3",
    "execution_start": 1637275577345,
    "execution_millis": 4,
    "deepnote_output_heights": [
     78.796875
    ],
    "deepnote_cell_type": "code"
   },
   "source": "train_df['Pclass'].value_counts()",
   "outputs": [
    {
     "output_type": "execute_result",
     "execution_count": 25,
     "data": {
      "text/plain": "3    491\n1    216\n2    184\nName: Pclass, dtype: int64"
     },
     "metadata": {}
    }
   ],
   "execution_count": null
  },
  {
   "cell_type": "code",
   "metadata": {
    "cell_id": "00046-b702e265-0e4d-4f4a-a2f9-2d464cb14b57",
    "deepnote_to_be_reexecuted": false,
    "source_hash": "9bd34ec2",
    "execution_start": 1637275577348,
    "execution_millis": 6,
    "deepnote_output_heights": [
     155.59375
    ],
    "deepnote_cell_type": "code"
   },
   "source": "train_df.groupby(['Pclass', 'Survived'])['Survived'].count()",
   "outputs": [
    {
     "output_type": "execute_result",
     "execution_count": 26,
     "data": {
      "text/plain": "Pclass  Survived\n1       0            80\n        1           136\n2       0            97\n        1            87\n3       0           372\n        1           119\nName: Survived, dtype: int64"
     },
     "metadata": {}
    }
   ],
   "execution_count": null
  },
  {
   "cell_type": "code",
   "metadata": {
    "cell_id": "00047-ac3bccf7-6002-4e6a-885c-56b9d7b7cf29",
    "deepnote_to_be_reexecuted": false,
    "source_hash": "78cd6a99",
    "execution_start": 1637275577357,
    "execution_millis": 231,
    "deepnote_output_heights": [
     370
    ],
    "deepnote_cell_type": "code"
   },
   "source": "sns.catplot(x='Pclass', y='Survived', data=train_df, kind='point')\nplt.title(\"Pclass vs Survived\")\nplt.show()",
   "outputs": [
    {
     "data": {
      "text/plain": "<Figure size 360x360 with 1 Axes>",
      "image/png": "[encoded data removed]"
     },
     "metadata": {
      "needs_background": "light",
      "image/png": {
       "width": 352,
       "height": 368
      }
     },
     "output_type": "display_data"
    }
   ],
   "execution_count": null
  },
  {
   "cell_type": "markdown",
   "source": "What you see above is called a Point plot. It shows point estimates and confidence intervals. The point estimates indicate the central tendency of a variable while the confidence intervals indicate the uncertainty around this estimate. From the above plot, it is very clear that the first Class passengers had the highest Survival rate when compared to the other class passengers.",
   "metadata": {
    "cell_id": "00048-03bcdc48-1035-43a5-8d1b-46b621ff912d",
    "deepnote_cell_type": "markdown"
   }
  },
  {
   "cell_type": "code",
   "metadata": {
    "cell_id": "00049-884c1fbc-3fcc-4cc0-965a-a7d5a4d054f7",
    "deepnote_to_be_reexecuted": false,
    "source_hash": "a5d13605",
    "execution_start": 1637275577592,
    "execution_millis": 169,
    "deepnote_output_heights": [
     370
    ],
    "deepnote_cell_type": "code"
   },
   "source": "sns.catplot(x='categorical_sex', y='Fare', data=train_df, kind='boxen')\nplt.title(\"Fare & Sex\")\nplt.show()",
   "outputs": [
    {
     "data": {
      "text/plain": "<Figure size 360x360 with 1 Axes>",
      "image/png": "[encoded data removed]"
     },
     "metadata": {
      "needs_background": "light",
      "image/png": {
       "width": 352,
       "height": 368
      }
     },
     "output_type": "display_data"
    }
   ],
   "execution_count": null
  },
  {
   "cell_type": "markdown",
   "source": "The enhanced box plot shown above indicates that the fare of “Female” passengers is on average higher than male passengers. It could be because of the additional services offered to female passengers.",
   "metadata": {
    "cell_id": "00050-707686df-1c7a-4892-ac15-98026418d5fb",
    "deepnote_cell_type": "markdown"
   }
  },
  {
   "cell_type": "markdown",
   "source": "### Multivariate analysis\nMultivariate Analysis helps us in mining for a deeper understanding of the relationship between variables when compared to Bivariate Analysis. The latter assumes that the relationship between a variable X and the target variable Y is independent of the rest of the variables, (i.e) f(X, Y) doesn't depend on a third variable Z. This limiting assumption could be dangerous. For instance, “Women and children first” is a naval code of conduct followed since 1852, whereby the lives of women and children were to be saved first in a life-threatening situation. As we already know, “Survival” is highly correlated with “Sex”. But a third variable “Age” (child) influences the relationship between “Survival” and “Sex”.\n\nLet's compare ‘Sex’ and ‘Age’.",
   "metadata": {
    "cell_id": "00051-6da22e15-ecfd-41c0-81a1-61c93936165f",
    "deepnote_cell_type": "markdown"
   }
  },
  {
   "cell_type": "code",
   "metadata": {
    "cell_id": "00052-46a93c40-4622-4b69-9792-6499c82654d1",
    "deepnote_to_be_reexecuted": false,
    "source_hash": "6dbc44d4",
    "execution_start": 1637275577757,
    "execution_millis": 221,
    "deepnote_output_heights": [
     370
    ],
    "deepnote_cell_type": "code"
   },
   "source": "sns.catplot(x='categorical_sex', y='Age', data=train_df)\nplt.title(\"Sex & age\")\nplt.show()",
   "outputs": [
    {
     "data": {
      "text/plain": "<Figure size 360x360 with 1 Axes>",
      "image/png": "[encoded data removed]"
     },
     "metadata": {
      "needs_background": "light",
      "image/png": {
       "width": 352,
       "height": 368
      }
     },
     "output_type": "display_data"
    }
   ],
   "execution_count": null
  },
  {
   "cell_type": "markdown",
   "source": "Let's include the third parameter “Pclass” and try to understand it better.",
   "metadata": {
    "cell_id": "00053-64771a2b-99bb-4d16-aa14-a8c154dea3e3",
    "deepnote_cell_type": "markdown"
   }
  },
  {
   "cell_type": "code",
   "metadata": {
    "cell_id": "00054-cc0c7c48-9ef9-4b5e-879b-ea5d4b89308c",
    "deepnote_to_be_reexecuted": false,
    "source_hash": "9272d8e7",
    "execution_start": 1637275577978,
    "execution_millis": 323,
    "deepnote_output_heights": [
     370
    ],
    "deepnote_cell_type": "code"
   },
   "source": "sns.catplot(x='categorical_sex', y='Age', data=train_df, kind='box', hue='Pclass')\nplt.title(\"Sex, age & Pclass\")\nplt.show()",
   "outputs": [
    {
     "data": {
      "text/plain": "<Figure size 402.375x360 with 1 Axes>",
      "image/png": "[encoded data removed]"
     },
     "metadata": {
      "needs_background": "light",
      "image/png": {
       "width": 395,
       "height": 368
      }
     },
     "output_type": "display_data"
    }
   ],
   "execution_count": null
  },
  {
   "cell_type": "markdown",
   "source": "From the above plot, we infer that most of the older people were traveling in first class. It may be because they were rich. The youngsters who are aged between 25 and 35 were mostly traveling in second and third classes.",
   "metadata": {
    "cell_id": "00055-cb9ca734-78f0-451c-8917-facdb6e1b2dc",
    "deepnote_cell_type": "markdown"
   }
  },
  {
   "cell_type": "code",
   "metadata": {
    "cell_id": "00056-b38a1443-c83a-4979-a30a-d85c77fd8049",
    "deepnote_to_be_reexecuted": false,
    "source_hash": "2992ef8b",
    "execution_start": 1637275578304,
    "execution_millis": 368,
    "deepnote_output_heights": [
     370
    ],
    "deepnote_cell_type": "code"
   },
   "source": "sns.catplot(x='Pclass', y='Age', data=train_df, kind='violin', hue='categorical_sex')\nplt.title(\"Sex, age & Pclass\")\nplt.show()",
   "outputs": [
    {
     "data": {
      "text/plain": "<Figure size 445.625x360 with 1 Axes>",
      "image/png": "[encoded data removed]"
     },
     "metadata": {
      "needs_background": "light",
      "image/png": {
       "width": 433,
       "height": 368
      }
     },
     "output_type": "display_data"
    }
   ],
   "execution_count": null
  },
  {
   "cell_type": "code",
   "metadata": {
    "cell_id": "00057-c022e3cc-d5fc-4652-9d35-7e8de955e0ce",
    "deepnote_to_be_reexecuted": false,
    "source_hash": "b367399",
    "execution_start": 1637275578676,
    "execution_millis": 981,
    "deepnote_output_heights": [
     611
    ],
    "deepnote_cell_type": "code"
   },
   "source": "sns.relplot(x='Age', y='Fare', data=train_df, row='categorical_sex', col='Pclass')\nplt.show()",
   "outputs": [
    {
     "data": {
      "text/plain": "<Figure size 1080x720 with 6 Axes>",
      "image/png": "[encoded data removed]"
     },
     "metadata": {
      "needs_background": "light",
      "image/png": {
       "width": 1072,
       "height": 712
      }
     },
     "output_type": "display_data"
    }
   ],
   "execution_count": null
  },
  {
   "cell_type": "code",
   "metadata": {
    "cell_id": "00058-36b5fb83-c0d6-41fb-abeb-71968eec3664",
    "deepnote_to_be_reexecuted": false,
    "source_hash": "b1a8b3e0",
    "execution_start": 1637275579667,
    "execution_millis": 20,
    "deepnote_output_heights": [
     174.59375
    ],
    "deepnote_cell_type": "code"
   },
   "source": "train_df.head()",
   "outputs": [
    {
     "output_type": "execute_result",
     "execution_count": 33,
     "data": {
      "application/vnd.deepnote.dataframe.v2+json": {
       "row_count": 5,
       "column_count": 11,
       "columns": [
        {
         "name": "Survived",
         "dtype": "int64",
         "stats": {
          "unique_count": 2,
          "nan_count": 0,
          "min": "0",
          "max": "1",
          "histogram": [
           {
            "bin_start": 0,
            "bin_end": 0.1,
            "count": 2
           },
           {
            "bin_start": 0.1,
            "bin_end": 0.2,
            "count": 0
           },
           {
            "bin_start": 0.2,
            "bin_end": 0.30000000000000004,
            "count": 0
           },
           {
            "bin_start": 0.30000000000000004,
            "bin_end": 0.4,
            "count": 0
           },
           {
            "bin_start": 0.4,
            "bin_end": 0.5,
            "count": 0
           },
           {
            "bin_start": 0.5,
            "bin_end": 0.6000000000000001,
            "count": 0
           },
           {
            "bin_start": 0.6000000000000001,
            "bin_end": 0.7000000000000001,
            "count": 0
           },
           {
            "bin_start": 0.7000000000000001,
            "bin_end": 0.8,
            "count": 0
           },
           {
            "bin_start": 0.8,
            "bin_end": 0.9,
            "count": 0
           },
           {
            "bin_start": 0.9,
            "bin_end": 1,
            "count": 3
           }
          ]
         }
        },
        {
         "name": "Pclass",
         "dtype": "int64",
         "stats": {
          "unique_count": 2,
          "nan_count": 0,
          "min": "1",
          "max": "3",
          "histogram": [
           {
            "bin_start": 1,
            "bin_end": 1.2,
            "count": 2
           },
           {
            "bin_start": 1.2,
            "bin_end": 1.4,
            "count": 0
           },
           {
            "bin_start": 1.4,
            "bin_end": 1.6,
            "count": 0
           },
           {
            "bin_start": 1.6,
            "bin_end": 1.8,
            "count": 0
           },
           {
            "bin_start": 1.8,
            "bin_end": 2,
            "count": 0
           },
           {
            "bin_start": 2,
            "bin_end": 2.2,
            "count": 0
           },
           {
            "bin_start": 2.2,
            "bin_end": 2.4000000000000004,
            "count": 0
           },
           {
            "bin_start": 2.4000000000000004,
            "bin_end": 2.6,
            "count": 0
           },
           {
            "bin_start": 2.6,
            "bin_end": 2.8,
            "count": 0
           },
           {
            "bin_start": 2.8,
            "bin_end": 3,
            "count": 3
           }
          ]
         }
        },
        {
         "name": "Age",
         "dtype": "float64",
         "stats": {
          "unique_count": 4,
          "nan_count": 0,
          "min": "22.0",
          "max": "38.0",
          "histogram": [
           {
            "bin_start": 22,
            "bin_end": 23.6,
            "count": 1
           },
           {
            "bin_start": 23.6,
            "bin_end": 25.2,
            "count": 0
           },
           {
            "bin_start": 25.2,
            "bin_end": 26.8,
            "count": 1
           },
           {
            "bin_start": 26.8,
            "bin_end": 28.4,
            "count": 0
           },
           {
            "bin_start": 28.4,
            "bin_end": 30,
            "count": 0
           },
           {
            "bin_start": 30,
            "bin_end": 31.6,
            "count": 0
           },
           {
            "bin_start": 31.6,
            "bin_end": 33.2,
            "count": 0
           },
           {
            "bin_start": 33.2,
            "bin_end": 34.8,
            "count": 0
           },
           {
            "bin_start": 34.8,
            "bin_end": 36.4,
            "count": 2
           },
           {
            "bin_start": 36.4,
            "bin_end": 38,
            "count": 1
           }
          ]
         }
        },
        {
         "name": "Parch",
         "dtype": "int64",
         "stats": {
          "unique_count": 1,
          "nan_count": 0,
          "min": "0",
          "max": "0",
          "histogram": [
           {
            "bin_start": -0.5,
            "bin_end": -0.4,
            "count": 0
           },
           {
            "bin_start": -0.4,
            "bin_end": -0.3,
            "count": 0
           },
           {
            "bin_start": -0.3,
            "bin_end": -0.19999999999999996,
            "count": 0
           },
           {
            "bin_start": -0.19999999999999996,
            "bin_end": -0.09999999999999998,
            "count": 0
           },
           {
            "bin_start": -0.09999999999999998,
            "bin_end": 0,
            "count": 0
           },
           {
            "bin_start": 0,
            "bin_end": 0.10000000000000009,
            "count": 5
           },
           {
            "bin_start": 0.10000000000000009,
            "bin_end": 0.20000000000000007,
            "count": 0
           },
           {
            "bin_start": 0.20000000000000007,
            "bin_end": 0.30000000000000004,
            "count": 0
           },
           {
            "bin_start": 0.30000000000000004,
            "bin_end": 0.4,
            "count": 0
           },
           {
            "bin_start": 0.4,
            "bin_end": 0.5,
            "count": 0
           }
          ]
         }
        },
        {
         "name": "Fare",
         "dtype": "float64",
         "stats": {
          "unique_count": 5,
          "nan_count": 0,
          "min": "7.25",
          "max": "71.2833",
          "histogram": [
           {
            "bin_start": 7.25,
            "bin_end": 13.65333,
            "count": 3
           },
           {
            "bin_start": 13.65333,
            "bin_end": 20.05666,
            "count": 0
           },
           {
            "bin_start": 20.05666,
            "bin_end": 26.459989999999998,
            "count": 0
           },
           {
            "bin_start": 26.459989999999998,
            "bin_end": 32.86332,
            "count": 0
           },
           {
            "bin_start": 32.86332,
            "bin_end": 39.26665,
            "count": 0
           },
           {
            "bin_start": 39.26665,
            "bin_end": 45.669979999999995,
            "count": 0
           },
           {
            "bin_start": 45.669979999999995,
            "bin_end": 52.07331,
            "count": 0
           },
           {
            "bin_start": 52.07331,
            "bin_end": 58.476639999999996,
            "count": 1
           },
           {
            "bin_start": 58.476639999999996,
            "bin_end": 64.87996999999999,
            "count": 0
           },
           {
            "bin_start": 64.87996999999999,
            "bin_end": 71.2833,
            "count": 1
           }
          ]
         }
        },
        {
         "name": "Embarked",
         "dtype": "int64",
         "stats": {
          "unique_count": 2,
          "nan_count": 0,
          "min": "0",
          "max": "1",
          "histogram": [
           {
            "bin_start": 0,
            "bin_end": 0.1,
            "count": 4
           },
           {
            "bin_start": 0.1,
            "bin_end": 0.2,
            "count": 0
           },
           {
            "bin_start": 0.2,
            "bin_end": 0.30000000000000004,
            "count": 0
           },
           {
            "bin_start": 0.30000000000000004,
            "bin_end": 0.4,
            "count": 0
           },
           {
            "bin_start": 0.4,
            "bin_end": 0.5,
            "count": 0
           },
           {
            "bin_start": 0.5,
            "bin_end": 0.6000000000000001,
            "count": 0
           },
           {
            "bin_start": 0.6000000000000001,
            "bin_end": 0.7000000000000001,
            "count": 0
           },
           {
            "bin_start": 0.7000000000000001,
            "bin_end": 0.8,
            "count": 0
           },
           {
            "bin_start": 0.8,
            "bin_end": 0.9,
            "count": 0
           },
           {
            "bin_start": 0.9,
            "bin_end": 1,
            "count": 1
           }
          ]
         }
        },
        {
         "name": "has_cabin",
         "dtype": "int64",
         "stats": {
          "unique_count": 2,
          "nan_count": 0,
          "min": "0",
          "max": "1",
          "histogram": [
           {
            "bin_start": 0,
            "bin_end": 0.1,
            "count": 3
           },
           {
            "bin_start": 0.1,
            "bin_end": 0.2,
            "count": 0
           },
           {
            "bin_start": 0.2,
            "bin_end": 0.30000000000000004,
            "count": 0
           },
           {
            "bin_start": 0.30000000000000004,
            "bin_end": 0.4,
            "count": 0
           },
           {
            "bin_start": 0.4,
            "bin_end": 0.5,
            "count": 0
           },
           {
            "bin_start": 0.5,
            "bin_end": 0.6000000000000001,
            "count": 0
           },
           {
            "bin_start": 0.6000000000000001,
            "bin_end": 0.7000000000000001,
            "count": 0
           },
           {
            "bin_start": 0.7000000000000001,
            "bin_end": 0.8,
            "count": 0
           },
           {
            "bin_start": 0.8,
            "bin_end": 0.9,
            "count": 0
           },
           {
            "bin_start": 0.9,
            "bin_end": 1,
            "count": 2
           }
          ]
         }
        },
        {
         "name": "family_size",
         "dtype": "int64",
         "stats": {
          "unique_count": 2,
          "nan_count": 0,
          "min": "1",
          "max": "2",
          "histogram": [
           {
            "bin_start": 1,
            "bin_end": 1.1,
            "count": 2
           },
           {
            "bin_start": 1.1,
            "bin_end": 1.2,
            "count": 0
           },
           {
            "bin_start": 1.2,
            "bin_end": 1.3,
            "count": 0
           },
           {
            "bin_start": 1.3,
            "bin_end": 1.4,
            "count": 0
           },
           {
            "bin_start": 1.4,
            "bin_end": 1.5,
            "count": 0
           },
           {
            "bin_start": 1.5,
            "bin_end": 1.6,
            "count": 0
           },
           {
            "bin_start": 1.6,
            "bin_end": 1.7000000000000002,
            "count": 0
           },
           {
            "bin_start": 1.7000000000000002,
            "bin_end": 1.8,
            "count": 0
           },
           {
            "bin_start": 1.8,
            "bin_end": 1.9,
            "count": 0
           },
           {
            "bin_start": 1.9,
            "bin_end": 2,
            "count": 3
           }
          ]
         }
        },
        {
         "name": "categorical_fare",
         "dtype": "int64",
         "stats": {
          "unique_count": 3,
          "nan_count": 0,
          "min": "0",
          "max": "3",
          "histogram": [
           {
            "bin_start": 0,
            "bin_end": 0.3,
            "count": 1
           },
           {
            "bin_start": 0.3,
            "bin_end": 0.6,
            "count": 0
           },
           {
            "bin_start": 0.6,
            "bin_end": 0.8999999999999999,
            "count": 0
           },
           {
            "bin_start": 0.8999999999999999,
            "bin_end": 1.2,
            "count": 2
           },
           {
            "bin_start": 1.2,
            "bin_end": 1.5,
            "count": 0
           },
           {
            "bin_start": 1.5,
            "bin_end": 1.7999999999999998,
            "count": 0
           },
           {
            "bin_start": 1.7999999999999998,
            "bin_end": 2.1,
            "count": 0
           },
           {
            "bin_start": 2.1,
            "bin_end": 2.4,
            "count": 0
           },
           {
            "bin_start": 2.4,
            "bin_end": 2.6999999999999997,
            "count": 0
           },
           {
            "bin_start": 2.6999999999999997,
            "bin_end": 3,
            "count": 2
           }
          ]
         }
        },
        {
         "name": "Title",
         "dtype": "int64",
         "stats": {
          "unique_count": 3,
          "nan_count": 0,
          "min": "2",
          "max": "4",
          "histogram": [
           {
            "bin_start": 2,
            "bin_end": 2.2,
            "count": 2
           },
           {
            "bin_start": 2.2,
            "bin_end": 2.4,
            "count": 0
           },
           {
            "bin_start": 2.4,
            "bin_end": 2.6,
            "count": 0
           },
           {
            "bin_start": 2.6,
            "bin_end": 2.8,
            "count": 0
           },
           {
            "bin_start": 2.8,
            "bin_end": 3,
            "count": 0
           },
           {
            "bin_start": 3,
            "bin_end": 3.2,
            "count": 2
           },
           {
            "bin_start": 3.2,
            "bin_end": 3.4000000000000004,
            "count": 0
           },
           {
            "bin_start": 3.4000000000000004,
            "bin_end": 3.6,
            "count": 0
           },
           {
            "bin_start": 3.6,
            "bin_end": 3.8,
            "count": 0
           },
           {
            "bin_start": 3.8,
            "bin_end": 4,
            "count": 1
           }
          ]
         }
        },
        {
         "name": "categorical_sex",
         "dtype": "int64",
         "stats": {
          "unique_count": 2,
          "nan_count": 0,
          "min": "0",
          "max": "1",
          "histogram": [
           {
            "bin_start": 0,
            "bin_end": 0.1,
            "count": 3
           },
           {
            "bin_start": 0.1,
            "bin_end": 0.2,
            "count": 0
           },
           {
            "bin_start": 0.2,
            "bin_end": 0.30000000000000004,
            "count": 0
           },
           {
            "bin_start": 0.30000000000000004,
            "bin_end": 0.4,
            "count": 0
           },
           {
            "bin_start": 0.4,
            "bin_end": 0.5,
            "count": 0
           },
           {
            "bin_start": 0.5,
            "bin_end": 0.6000000000000001,
            "count": 0
           },
           {
            "bin_start": 0.6000000000000001,
            "bin_end": 0.7000000000000001,
            "count": 0
           },
           {
            "bin_start": 0.7000000000000001,
            "bin_end": 0.8,
            "count": 0
           },
           {
            "bin_start": 0.8,
            "bin_end": 0.9,
            "count": 0
           },
           {
            "bin_start": 0.9,
            "bin_end": 1,
            "count": 2
           }
          ]
         }
        },
        {
         "name": "_deepnote_index_column",
         "dtype": "int64"
        }
       ],
       "rows_top": [
        {
         "Survived": 0,
         "Pclass": 3,
         "Age": 22,
         "Parch": 0,
         "Fare": 7.25,
         "Embarked": 0,
         "has_cabin": 0,
         "family_size": 2,
         "categorical_fare": 0,
         "Title": 3,
         "categorical_sex": 1,
         "_deepnote_index_column": 0
        },
        {
         "Survived": 1,
         "Pclass": 1,
         "Age": 38,
         "Parch": 0,
         "Fare": 71.2833,
         "Embarked": 1,
         "has_cabin": 1,
         "family_size": 2,
         "categorical_fare": 3,
         "Title": 2,
         "categorical_sex": 0,
         "_deepnote_index_column": 1
        },
        {
         "Survived": 1,
         "Pclass": 3,
         "Age": 26,
         "Parch": 0,
         "Fare": 7.925,
         "Embarked": 0,
         "has_cabin": 0,
         "family_size": 1,
         "categorical_fare": 1,
         "Title": 4,
         "categorical_sex": 0,
         "_deepnote_index_column": 2
        },
        {
         "Survived": 1,
         "Pclass": 1,
         "Age": 35,
         "Parch": 0,
         "Fare": 53.1,
         "Embarked": 0,
         "has_cabin": 1,
         "family_size": 2,
         "categorical_fare": 3,
         "Title": 2,
         "categorical_sex": 0,
         "_deepnote_index_column": 3
        },
        {
         "Survived": 0,
         "Pclass": 3,
         "Age": 35,
         "Parch": 0,
         "Fare": 8.05,
         "Embarked": 0,
         "has_cabin": 0,
         "family_size": 1,
         "categorical_fare": 1,
         "Title": 3,
         "categorical_sex": 1,
         "_deepnote_index_column": 4
        }
       ],
       "rows_bottom": null
      },
      "text/plain": "   Survived  Pclass   Age  Parch     Fare  Embarked  has_cabin  family_size  \\\n0         0       3  22.0      0   7.2500         0          0            2   \n1         1       1  38.0      0  71.2833         1          1            2   \n2         1       3  26.0      0   7.9250         0          0            1   \n3         1       1  35.0      0  53.1000         0          1            2   \n4         0       3  35.0      0   8.0500         0          0            1   \n\n   categorical_fare  Title  categorical_sex  \n0                 0      3                1  \n1                 3      2                0  \n2                 1      4                0  \n3                 3      2                0  \n4                 1      3                1  ",
      "text/html": "<div>\n<style scoped>\n    .dataframe tbody tr th:only-of-type {\n        vertical-align: middle;\n    }\n\n    .dataframe tbody tr th {\n        vertical-align: top;\n    }\n\n    .dataframe thead th {\n        text-align: right;\n    }\n</style>\n<table border=\"1\" class=\"dataframe\">\n  <thead>\n    <tr style=\"text-align: right;\">\n      <th></th>\n      <th>Survived</th>\n      <th>Pclass</th>\n      <th>Age</th>\n      <th>Parch</th>\n      <th>Fare</th>\n      <th>Embarked</th>\n      <th>has_cabin</th>\n      <th>family_size</th>\n      <th>categorical_fare</th>\n      <th>Title</th>\n      <th>categorical_sex</th>\n    </tr>\n  </thead>\n  <tbody>\n    <tr>\n      <th>0</th>\n      <td>0</td>\n      <td>3</td>\n      <td>22.0</td>\n      <td>0</td>\n      <td>7.2500</td>\n      <td>0</td>\n      <td>0</td>\n      <td>2</td>\n      <td>0</td>\n      <td>3</td>\n      <td>1</td>\n    </tr>\n    <tr>\n      <th>1</th>\n      <td>1</td>\n      <td>1</td>\n      <td>38.0</td>\n      <td>0</td>\n      <td>71.2833</td>\n      <td>1</td>\n      <td>1</td>\n      <td>2</td>\n      <td>3</td>\n      <td>2</td>\n      <td>0</td>\n    </tr>\n    <tr>\n      <th>2</th>\n      <td>1</td>\n      <td>3</td>\n      <td>26.0</td>\n      <td>0</td>\n      <td>7.9250</td>\n      <td>0</td>\n      <td>0</td>\n      <td>1</td>\n      <td>1</td>\n      <td>4</td>\n      <td>0</td>\n    </tr>\n    <tr>\n      <th>3</th>\n      <td>1</td>\n      <td>1</td>\n      <td>35.0</td>\n      <td>0</td>\n      <td>53.1000</td>\n      <td>0</td>\n      <td>1</td>\n      <td>2</td>\n      <td>3</td>\n      <td>2</td>\n      <td>0</td>\n    </tr>\n    <tr>\n      <th>4</th>\n      <td>0</td>\n      <td>3</td>\n      <td>35.0</td>\n      <td>0</td>\n      <td>8.0500</td>\n      <td>0</td>\n      <td>0</td>\n      <td>1</td>\n      <td>1</td>\n      <td>3</td>\n      <td>1</td>\n    </tr>\n  </tbody>\n</table>\n</div>"
     },
     "metadata": {}
    }
   ],
   "execution_count": null
  },
  {
   "cell_type": "markdown",
   "source": "From the above plots, we observe that there were more male passengers who traveled in first-class than women passengers. The Fare for first-class female passengers was higher than male passengers. There is no big difference in Fare for second and third-class passengers. Very few children traveled in first class. The third class had more children. Most of the second and third-class passengers were aged between 20 and 40.",
   "metadata": {
    "cell_id": "00059-1dbb3268-f968-4ffc-9cf2-cbdda906231d",
    "deepnote_cell_type": "markdown"
   }
  },
  {
   "cell_type": "markdown",
   "source": "## Modeling, evaluation & ensambling",
   "metadata": {
    "cell_id": "00060-1eafcccc-89a1-4b93-8efa-74ffa2b4b890",
    "deepnote_cell_type": "markdown"
   }
  },
  {
   "cell_type": "code",
   "metadata": {
    "cell_id": "00061-e6f81cf3-10c1-4d24-b2a6-5ff46573a157",
    "deepnote_to_be_reexecuted": false,
    "source_hash": "d0bb2603",
    "execution_start": 1637275579689,
    "execution_millis": 183,
    "deepnote_cell_type": "code"
   },
   "source": "# Algorithms\nfrom sklearn.tree import DecisionTreeClassifier\nfrom sklearn import linear_model\nfrom sklearn.linear_model import LogisticRegression\nfrom sklearn.ensemble import RandomForestClassifier\nfrom sklearn.linear_model import Perceptron\nfrom sklearn.linear_model import SGDClassifier\nfrom sklearn.tree import DecisionTreeClassifier\nfrom sklearn.neighbors import KNeighborsClassifier\nfrom sklearn.svm import SVC, LinearSVC\nfrom sklearn.naive_bayes import GaussianNB\n\n# K-Fold Cross Validation\nfrom sklearn.model_selection import cross_val_score \nfrom sklearn.model_selection import GridSearchCV",
   "outputs": [],
   "execution_count": null
  },
  {
   "cell_type": "code",
   "metadata": {
    "cell_id": "00062-c051171d-1a92-4530-973e-fa3285d6d4a5",
    "deepnote_to_be_reexecuted": false,
    "source_hash": "be568ee6",
    "execution_start": 1637275579875,
    "execution_millis": 1,
    "deepnote_cell_type": "code"
   },
   "source": "pd.options.display.max_rows = 10\npd.options.display.float_format = \"{:.1f}\".format",
   "outputs": [],
   "execution_count": null
  },
  {
   "cell_type": "code",
   "metadata": {
    "cell_id": "00063-ac23be22-1f05-4940-8236-cb98bfd506e4",
    "deepnote_to_be_reexecuted": false,
    "source_hash": "dad2fdc",
    "execution_start": 1637275579908,
    "execution_millis": 0,
    "deepnote_cell_type": "code"
   },
   "source": "train_df = train_df.reindex(np.random.permutation(train_df.index)) # shuffle the training set",
   "outputs": [],
   "execution_count": null
  },
  {
   "cell_type": "code",
   "metadata": {
    "cell_id": "00064-0408f6be-5273-4e17-a947-645ce9975cdb",
    "deepnote_to_be_reexecuted": false,
    "source_hash": "7069a338",
    "execution_start": 1637275579909,
    "execution_millis": 0,
    "deepnote_cell_type": "code"
   },
   "source": "x_train = train_df.drop(\"Survived\", axis=1)\ny_train = train_df[\"Survived\"]",
   "outputs": [],
   "execution_count": null
  },
  {
   "cell_type": "markdown",
   "source": "### Machine learning models",
   "metadata": {
    "cell_id": "00065-ee571333-eb82-434d-bede-d285ed2948f7",
    "deepnote_cell_type": "markdown"
   }
  },
  {
   "cell_type": "markdown",
   "source": "#### Stochastic Gradient Descent (SGD):",
   "metadata": {
    "cell_id": "00066-2537875a-1150-4c32-af01-6352ad73de07",
    "deepnote_cell_type": "markdown"
   }
  },
  {
   "cell_type": "code",
   "metadata": {
    "cell_id": "00067-060d3229-119e-4d54-85cd-9bfd73f0deaa",
    "deepnote_to_be_reexecuted": false,
    "source_hash": "1c24f6a3",
    "execution_start": 1637275579909,
    "execution_millis": 1,
    "deepnote_cell_type": "code"
   },
   "source": "sgd = linear_model.SGDClassifier(max_iter=5, tol=None)\nsgd.fit(x_train, y_train)\ny_pred = sgd.predict(test_df)\n\nsgd.score(x_train, y_train)\n\nacc_sgd = round(sgd.score(x_train, y_train) * 100, 2)",
   "outputs": [],
   "execution_count": null
  },
  {
   "cell_type": "markdown",
   "source": "#### Random forest",
   "metadata": {
    "cell_id": "00068-b4dd97a8-9e5d-406d-a489-98cbee83fbac",
    "deepnote_cell_type": "markdown"
   }
  },
  {
   "cell_type": "code",
   "metadata": {
    "cell_id": "00069-f3b024c9-864a-43df-ae32-d3a75a878ec8",
    "deepnote_to_be_reexecuted": false,
    "source_hash": "65f9d9c3",
    "execution_start": 1637275579911,
    "execution_millis": 225,
    "deepnote_cell_type": "code"
   },
   "source": "randomforest = RandomForestClassifier(n_estimators=100)\nrandomforest.fit(x_train, y_train)\n\ny_pred = randomforest.predict(test_df)\n\nrandomforest.score(x_train, y_train)\nacc_random_forest = round(randomforest.score(x_train, y_train) * 100, 2)",
   "outputs": [],
   "execution_count": null
  },
  {
   "cell_type": "markdown",
   "source": "#### Logistic regression",
   "metadata": {
    "cell_id": "00070-f899e0ce-94ec-4c1b-a4f1-90556187abbd",
    "deepnote_cell_type": "markdown"
   }
  },
  {
   "cell_type": "code",
   "metadata": {
    "cell_id": "00071-224e4152-1ec5-44a6-97be-82b90afa1af7",
    "deepnote_to_be_reexecuted": false,
    "source_hash": "9ba448f8",
    "execution_start": 1637275580142,
    "execution_millis": 72,
    "deepnote_cell_type": "code"
   },
   "source": "logreg = LogisticRegression(max_iter=10000)\nlogreg.fit(x_train, y_train)\n\ny_pred = logreg.predict(test_df)\n\nacc_log = round(logreg.score(x_train, y_train) * 100, 2)",
   "outputs": [],
   "execution_count": null
  },
  {
   "cell_type": "markdown",
   "source": "#### K Nearest Neighbor:",
   "metadata": {
    "cell_id": "00072-973fd468-cd20-4ba3-82bf-bcb765ebeabb",
    "deepnote_cell_type": "markdown"
   }
  },
  {
   "cell_type": "code",
   "metadata": {
    "cell_id": "00073-482d88f5-2268-4a65-8930-f5ddd05d528f",
    "deepnote_to_be_reexecuted": false,
    "source_hash": "af456b57",
    "execution_start": 1637275580219,
    "execution_millis": 37,
    "deepnote_cell_type": "code"
   },
   "source": "knn = KNeighborsClassifier(n_neighbors = 3) \nknn.fit(x_train, y_train)  \ny_pred = knn.predict(test_df)  \nacc_knn = round(knn.score(x_train, y_train) * 100, 2)",
   "outputs": [],
   "execution_count": null
  },
  {
   "cell_type": "markdown",
   "source": "#### Decision Tree",
   "metadata": {
    "cell_id": "00074-13295546-7345-472a-884f-8d15d16f6b37",
    "deepnote_cell_type": "markdown"
   }
  },
  {
   "cell_type": "code",
   "metadata": {
    "cell_id": "00075-d908161f-1703-4f0c-9c8d-5e66f4e34d97",
    "deepnote_to_be_reexecuted": false,
    "source_hash": "4719928b",
    "execution_start": 1637275580260,
    "execution_millis": 8,
    "deepnote_cell_type": "code"
   },
   "source": "decision_tree = DecisionTreeClassifier() \ndecision_tree.fit(x_train, y_train)  \ny_pred = decision_tree.predict(test_df)  \nacc_decision_tree = round(decision_tree.score(x_train, y_train) * 100, 2)",
   "outputs": [],
   "execution_count": null
  },
  {
   "cell_type": "markdown",
   "source": "#### Gaussian Naive Bayes:",
   "metadata": {
    "cell_id": "00076-add4997e-27e5-4e42-89ef-1ae57f0da0a7",
    "deepnote_cell_type": "markdown"
   }
  },
  {
   "cell_type": "code",
   "metadata": {
    "cell_id": "00077-ad13d2e8-4375-41b9-924e-9cc41d327838",
    "deepnote_to_be_reexecuted": false,
    "source_hash": "c5d10d43",
    "execution_start": 1637275580270,
    "execution_millis": 6,
    "deepnote_cell_type": "code"
   },
   "source": "gaussian = GaussianNB() \ngaussian.fit(x_train, y_train)  \ny_pred = gaussian.predict(test_df)  \nacc_gaussian = round(gaussian.score(x_train, y_train) * 100, 2)",
   "outputs": [],
   "execution_count": null
  },
  {
   "cell_type": "markdown",
   "source": "#### Perceptron",
   "metadata": {
    "cell_id": "00078-eb3c38b2-ce39-447d-b495-4154cef95a40",
    "deepnote_cell_type": "markdown"
   }
  },
  {
   "cell_type": "code",
   "metadata": {
    "cell_id": "00079-3c0f2290-ff12-4238-bc66-94df3102a617",
    "deepnote_to_be_reexecuted": false,
    "source_hash": "32bc8465",
    "execution_start": 1637275580322,
    "execution_millis": 0,
    "deepnote_cell_type": "code"
   },
   "source": "perceptron = Perceptron(max_iter=10000)\nperceptron.fit(x_train, y_train)\n\nY_pred = perceptron.predict(test_df)\n\nacc_perceptron = round(perceptron.score(x_train, y_train) * 100, 2)",
   "outputs": [],
   "execution_count": null
  },
  {
   "cell_type": "markdown",
   "source": "#### Linear Support Vector Machine:",
   "metadata": {
    "cell_id": "00080-d51939e2-1a3f-460c-ba69-d7b936e9fc1f",
    "deepnote_cell_type": "markdown"
   }
  },
  {
   "cell_type": "code",
   "metadata": {
    "cell_id": "00081-c07ea761-713d-4fdc-b44e-664eb81a6e0c",
    "deepnote_to_be_reexecuted": false,
    "source_hash": "9685fb9b",
    "execution_start": 1637275580323,
    "execution_millis": 403,
    "deepnote_cell_type": "code"
   },
   "source": "linear_svc = LinearSVC(max_iter=10000)\nlinear_svc.fit(x_train, y_train)\n\nY_pred = linear_svc.predict(test_df)\n\nacc_linear_svc = round(linear_svc.score(x_train, y_train) * 100, 2)",
   "outputs": [
    {
     "name": "stderr",
     "text": "/shared-libs/python3.9/py/lib/python3.9/site-packages/sklearn/svm/_base.py:1206: ConvergenceWarning: Liblinear failed to converge, increase the number of iterations.\n  warnings.warn(\n",
     "output_type": "stream"
    }
   ],
   "execution_count": null
  },
  {
   "cell_type": "markdown",
   "source": "#### Which is the best model?",
   "metadata": {
    "cell_id": "00082-a9198e9d-d831-4686-858e-1c3d02f7c8f7",
    "deepnote_cell_type": "markdown"
   }
  },
  {
   "cell_type": "code",
   "metadata": {
    "cell_id": "00083-8620ffb2-0527-4404-be04-9f74b17420eb",
    "deepnote_to_be_reexecuted": false,
    "source_hash": "b7a9b8f4",
    "execution_start": 1637275580666,
    "execution_millis": 61,
    "deepnote_output_heights": [
     289
    ],
    "deepnote_cell_type": "code"
   },
   "source": "results = pd.DataFrame({\n    'Model': ['Support Vector Machines', 'KNN', 'Logistic Regression', \n            'Random Forest', 'Naive Bayes', 'Perceptron', \n            'Stochastic Gradient Decent', \n            'Decision Tree'],\n    'Score': [acc_linear_svc, acc_knn, acc_log, \n            acc_random_forest, acc_gaussian, acc_perceptron, \n            acc_sgd, acc_decision_tree]})\nresult_df = results.sort_values(by='Score', ascending=False)\nresult_df = result_df.set_index('Score')\nresult_df.head(9)",
   "outputs": [
    {
     "output_type": "execute_result",
     "execution_count": 46,
     "data": {
      "application/vnd.deepnote.dataframe.v2+json": {
       "row_count": 8,
       "column_count": 1,
       "columns": [
        {
         "name": "Model",
         "dtype": "object",
         "stats": {
          "unique_count": 8,
          "nan_count": 0,
          "categories": [
           {
            "name": "Random Forest",
            "count": 1
           },
           {
            "name": "Decision Tree",
            "count": 1
           },
           {
            "name": "6 others",
            "count": 6
           }
          ]
         }
        },
        {
         "name": "_deepnote_index_column",
         "dtype": "float64"
        }
       ],
       "rows_top": [
        {
         "Model": "Random Forest",
         "_deepnote_index_column": 98.65
        },
        {
         "Model": "Decision Tree",
         "_deepnote_index_column": 98.65
        },
        {
         "Model": "KNN",
         "_deepnote_index_column": 84.18
        },
        {
         "Model": "Logistic Regression",
         "_deepnote_index_column": 80.58
        },
        {
         "Model": "Support Vector Machines",
         "_deepnote_index_column": 79.24
        },
        {
         "Model": "Naive Bayes",
         "_deepnote_index_column": 79.12
        },
        {
         "Model": "Stochastic Gradient Decent",
         "_deepnote_index_column": 73.06
        },
        {
         "Model": "Perceptron",
         "_deepnote_index_column": 64.65
        }
       ],
       "rows_bottom": null
      },
      "text/plain": "                            Model\nScore                            \n98.7                Random Forest\n98.7                Decision Tree\n84.2                          KNN\n80.6          Logistic Regression\n79.2      Support Vector Machines\n79.1                  Naive Bayes\n73.1   Stochastic Gradient Decent\n64.7                   Perceptron",
      "text/html": "<div>\n<style scoped>\n    .dataframe tbody tr th:only-of-type {\n        vertical-align: middle;\n    }\n\n    .dataframe tbody tr th {\n        vertical-align: top;\n    }\n\n    .dataframe thead th {\n        text-align: right;\n    }\n</style>\n<table border=\"1\" class=\"dataframe\">\n  <thead>\n    <tr style=\"text-align: right;\">\n      <th></th>\n      <th>Model</th>\n    </tr>\n    <tr>\n      <th>Score</th>\n      <th></th>\n    </tr>\n  </thead>\n  <tbody>\n    <tr>\n      <th>98.7</th>\n      <td>Random Forest</td>\n    </tr>\n    <tr>\n      <th>98.7</th>\n      <td>Decision Tree</td>\n    </tr>\n    <tr>\n      <th>84.2</th>\n      <td>KNN</td>\n    </tr>\n    <tr>\n      <th>80.6</th>\n      <td>Logistic Regression</td>\n    </tr>\n    <tr>\n      <th>79.2</th>\n      <td>Support Vector Machines</td>\n    </tr>\n    <tr>\n      <th>79.1</th>\n      <td>Naive Bayes</td>\n    </tr>\n    <tr>\n      <th>73.1</th>\n      <td>Stochastic Gradient Decent</td>\n    </tr>\n    <tr>\n      <th>64.7</th>\n      <td>Perceptron</td>\n    </tr>\n  </tbody>\n</table>\n</div>"
     },
     "metadata": {}
    }
   ],
   "execution_count": null
  },
  {
   "cell_type": "markdown",
   "source": "Random Forest classifier is the best model. But first, we have to see, how random-forest performs, when we use cross validation.",
   "metadata": {
    "cell_id": "00084-377d18d1-0957-4ee1-b439-0e7ae57488e8",
    "deepnote_cell_type": "markdown"
   }
  },
  {
   "cell_type": "markdown",
   "source": "### K-fold cross validation",
   "metadata": {
    "cell_id": "00085-ccd3a048-598d-4941-bbd1-b2bd8629a9a9",
    "deepnote_cell_type": "markdown"
   }
  },
  {
   "cell_type": "markdown",
   "source": "K-Fold Cross Validation randomly splits the training data into K subsets called folds. Let’s image we would split our data into 4 folds (K = 4). Our random forest model would be trained and evaluated 4 times, using a different fold for evaluation everytime, while it would be trained on the remaining 3 folds.",
   "metadata": {
    "cell_id": "00086-2a430436-9d5b-436d-8e46-9a97b33dab2b",
    "deepnote_cell_type": "markdown"
   }
  },
  {
   "cell_type": "code",
   "metadata": {
    "cell_id": "00087-622d5517-920c-4058-a820-552801fa0038",
    "deepnote_to_be_reexecuted": false,
    "source_hash": "8e48369f",
    "execution_start": 1637275580669,
    "execution_millis": 75,
    "deepnote_cell_type": "code"
   },
   "source": "scores = cross_val_score(decision_tree, x_train, y_train, cv=10, scoring = \"accuracy\")\nprint(\"Scores:\", scores)\nprint(\"Mean:\", scores.mean())\nprint(\"Standard Deviation:\", scores.std())",
   "outputs": [
    {
     "name": "stdout",
     "text": "Scores: [0.8        0.71910112 0.7752809  0.69662921 0.82022472 0.75280899\n 0.86516854 0.7752809  0.69662921 0.83146067]\nMean: 0.7732584269662921\nStandard Deviation: 0.05464371985120405\n",
     "output_type": "stream"
    }
   ],
   "execution_count": null
  },
  {
   "cell_type": "markdown",
   "source": "This means our model has an average accuracy of 79% with a standard deviation of 4%. The standard deviation shows us, how precise the estimates are. This means in our case that the accuracy of our model can differ + — 4%.\n\nLet's improve the performance",
   "metadata": {
    "cell_id": "00088-056e4cbc-c891-4dd6-8dd9-5fb44c96d23f",
    "deepnote_cell_type": "markdown"
   }
  },
  {
   "cell_type": "markdown",
   "source": "### Feature importance",
   "metadata": {
    "cell_id": "00089-2499b128-06e6-4475-9c59-fd9feb362c41",
    "deepnote_cell_type": "markdown"
   }
  },
  {
   "cell_type": "code",
   "metadata": {
    "cell_id": "00090-7acd6a62-e579-4ce2-9d4a-34b637a0ed92",
    "deepnote_to_be_reexecuted": false,
    "source_hash": "4e6d4993",
    "execution_start": 1637275580746,
    "execution_millis": 183,
    "deepnote_output_heights": [
     21.1875,
     335
    ],
    "deepnote_cell_type": "code"
   },
   "source": "importances = pd.DataFrame({'feature':x_train.columns,'importance':np.round(randomforest.feature_importances_,3)})\nimportances = importances.sort_values('importance',ascending=False).set_index('feature')\nimportances.plot.bar()",
   "outputs": [
    {
     "output_type": "execute_result",
     "execution_count": 48,
     "data": {
      "text/plain": "<AxesSubplot:xlabel='feature'>"
     },
     "metadata": {}
    },
    {
     "data": {
      "text/plain": "<Figure size 432x288 with 1 Axes>",
      "image/png": "[encoded data removed]"
     },
     "metadata": {
      "needs_background": "light",
      "image/png": {
       "width": 378,
       "height": 333
      }
     },
     "output_type": "display_data"
    }
   ],
   "execution_count": null
  },
  {
   "cell_type": "code",
   "metadata": {
    "cell_id": "00091-4bfd286f-2b4e-41b8-8464-109fa207c2be",
    "deepnote_to_be_reexecuted": false,
    "source_hash": "82cf8bb0",
    "execution_start": 1637275580931,
    "execution_millis": 1,
    "deepnote_cell_type": "code"
   },
   "source": "train_df  = train_df.drop(\"Parch\", axis=1)\ntest_df  = test_df.drop(\"Parch\", axis=1)",
   "outputs": [],
   "execution_count": null
  },
  {
   "cell_type": "code",
   "metadata": {
    "cell_id": "00092-b0ad7fd4-1932-4110-a6c7-02684f8c10be",
    "deepnote_to_be_reexecuted": false,
    "source_hash": "746a50c9",
    "execution_start": 1637275580977,
    "execution_millis": 306,
    "deepnote_cell_type": "code"
   },
   "source": "x_train = train_df.drop(\"Survived\", axis=1)\ny_train = train_df[\"Survived\"]\n\nrandom_forest = RandomForestClassifier(n_estimators=100, oob_score = True)\nrandom_forest.fit(x_train.values, y_train.values)\n\ny_prediction = random_forest.predict(test_df.values)\n\nrandom_forest.score(x_train.values, y_train.values)\n\nacc_random_forest = round(random_forest.score(x_train.values, y_train.values) * 100, 2)\nprint(round(acc_random_forest,2,), \"%\")",
   "outputs": [
    {
     "name": "stdout",
     "text": "98.65 %\n",
     "output_type": "stream"
    }
   ],
   "execution_count": null
  },
  {
   "cell_type": "code",
   "metadata": {
    "cell_id": "00093-24e2401d-ae85-4319-815d-9c3c23b7ecc5",
    "deepnote_to_be_reexecuted": false,
    "source_hash": "1295189",
    "execution_start": 1637275581284,
    "execution_millis": 4,
    "deepnote_cell_type": "code"
   },
   "source": "print(\"oob score:\", round(random_forest.oob_score_, 4)*100, \"%\")",
   "outputs": [
    {
     "name": "stdout",
     "text": "oob score: 80.92 %\n",
     "output_type": "stream"
    }
   ],
   "execution_count": null
  },
  {
   "cell_type": "markdown",
   "source": "### Hyperparameter Tuning\n\nThis code takes runs in a long time\n```\nparam_grid = { \"criterion\" : [\"gini\", \"entropy\"], \"min_samples_leaf\" : [1, 5, 10, 25, 50, 70], \"min_samples_split\" : [2, 4, 10, 12, 16, 18, 25, 35], \"n_estimators\": [100, 400, 700, 1000, 1500]}\n\nrf = RandomForestClassifier(n_estimators=100, max_features='auto', oob_score=True, random_state=1, n_jobs=-1)\nclf = GridSearchCV(estimator=rf, param_grid=param_grid, n_jobs=-1)\nclf.fit(x_train.values, y_train.values)\nclf.best_params_\n```\nThe results were\n```\n{'criterion': 'entropy',\n 'min_samples_leaf': 1,\n 'min_samples_split': 12,\n 'n_estimators': 1500}\n\n```\n\nNow lets run the model with this parameters",
   "metadata": {
    "cell_id": "00094-ce6768dd-a7fe-4abb-b988-f10847173187",
    "deepnote_cell_type": "markdown"
   }
  },
  {
   "cell_type": "code",
   "source": "random_forest = RandomForestClassifier(criterion = \"gini\", \n                                    min_samples_leaf = 1, \n                                    min_samples_split = 12,   \n                                    n_estimators=1500, \n                                    max_features='auto', \n                                    oob_score=True, \n                                    random_state=1, \n                                    n_jobs=-1)\n\nrandom_forest.fit(x_train.values, y_train.values)\nY_prediction = random_forest.predict(test_df.values)\n\nrandom_forest.score(x_train.values, y_train.values)\n\nprint(\"oob score:\", round(random_forest.oob_score_, 4)*100, \"%\")",
   "metadata": {
    "tags": [],
    "cell_id": "00095-4e2618aa-92f1-48ee-a4ad-105358e8bdb9",
    "deepnote_to_be_reexecuted": false,
    "source_hash": "97cfca26",
    "execution_start": 1637279056035,
    "execution_millis": 3812,
    "deepnote_cell_type": "code"
   },
   "outputs": [
    {
     "name": "stdout",
     "text": "oob score: 82.83 %\n",
     "output_type": "stream"
    }
   ],
   "execution_count": null
  },
  {
   "cell_type": "markdown",
   "source": "Now we have a proper model,the problem is just, that it’s more complicated to evaluate a classification model than a regression model.",
   "metadata": {
    "tags": [],
    "cell_id": "00096-363a7a71-cfee-4633-a56b-0d2ce1760a60",
    "deepnote_cell_type": "markdown"
   }
  },
  {
   "cell_type": "markdown",
   "source": "<a style='text-decoration:none;line-height:16px;display:flex;color:#5B5B62;padding:10px;justify-content:end;' href='https://deepnote.com?utm_source=created-in-deepnote-cell&projectId=ae378bb3-8415-4884-ba0c-c782b9123a13' target=\"_blank\">\n<img alt='Created in deepnote.com' style='display:inline;max-height:16px;margin:0px;margin-right:7.5px;' src='data:image/svg+xml;base64,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' > </img>\nCreated in <span style='font-weight:600;margin-left:4px;'>Deepnote</span></a>",
   "metadata": {
    "tags": [],
    "created_in_deepnote_cell": true,
    "deepnote_cell_type": "markdown"
   }
  }
 ],
 "nbformat": 4,
 "nbformat_minor": 2,
 "metadata": {
  "interpreter": {
   "hash": "f2f1385da72a8005ba63f0e759cb705f0532cdfd9a5c9685f6bbc2e0e3ca0d88"
  },
  "kernelspec": {
   "display_name": "Python 3.9.7 64-bit ('titanic': conda)",
   "language": "python",
   "name": "python3"
  },
  "language_info": {
   "codemirror_mode": {
    "name": "ipython",
    "version": 3
   },
   "file_extension": ".py",
   "mimetype": "text/x-python",
   "name": "python",
   "nbconvert_exporter": "python",
   "pygments_lexer": "ipython3",
   "version": "3.9.7"
  },
  "orig_nbformat": 4,
  "deepnote_notebook_id": "2389d46a-8432-4ca7-b556-16c268f0fc75",
  "deepnote": {},
  "deepnote_execution_queue": []
 }
}